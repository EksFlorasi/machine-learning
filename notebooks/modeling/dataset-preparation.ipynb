{
 "cells": [
  {
   "attachments": {},
   "cell_type": "markdown",
   "metadata": {
    "cell_id": "c09a2ca34ef644348fb6de4fdfcddf1c",
    "deepnote_cell_type": "markdown"
   },
   "source": [
    "# Download Datasets\n",
    "Datasets sourced from Kaggle, make sure to prepare your Kaggle API key (kaggle.json).\n",
    "- This first section is made for users running this notebook in a cloud environment (Colab, Deepnote, etc). \n",
    "- To prepare dataset locally: \n",
    "    - Download the datasets directly from Kaggle\n",
    "    - Unzip the dataset\n",
    "    - Copy the folders to this project's directory."
   ]
  },
  {
   "cell_type": "code",
   "execution_count": 1,
   "metadata": {
    "cell_id": "37262b893c5946fb92bc0aeabf1d2327",
    "deepnote_cell_type": "code",
    "deepnote_to_be_reexecuted": false,
    "execution_millis": 3216,
    "execution_start": 1686071144495,
    "source_hash": "2509a97e"
   },
   "outputs": [
    {
     "name": "stdout",
     "output_type": "stream",
     "text": [
      "ref                                                                   title                                                size  lastUpdated          downloadCount  voteCount  usabilityRating  \n",
      "--------------------------------------------------------------------  --------------------------------------------------  -----  -------------------  -------------  ---------  ---------------  \n",
      "arnabchaki/data-science-salaries-2023                                 Data Science Salaries 2023 💸                         25KB  2023-04-13 09:55:16          26915        750  1.0              \n",
      "tawfikelmetwally/automobile-dataset                                   Car information dataset                               6KB  2023-05-28 18:26:48           1681         47  0.9411765        \n",
      "fatihb/coffee-quality-data-cqi                                        Coffee Quality Data (CQI May-2023)                   22KB  2023-05-12 13:06:39           4237         92  1.0              \n",
      "mohithsairamreddy/salary-data                                         Salary_Data                                          17KB  2023-05-18 14:05:19           3695         72  0.88235295       \n",
      "mauryansshivam/netflix-ott-revenue-and-subscribers-csv-file           Netflix OTT Revenue and Subscribers (CSV File)        2KB  2023-05-13 17:40:23           2111         51  1.0              \n",
      "omarsobhy14/mcdonalds-revenue                                         🍟💰From Flipping Burgers to Billions: McDonald's      565B  2023-06-01 23:22:49            473         23  1.0              \n",
      "zsinghrahulk/rice-pest-and-diseases                                   Rice - Pest and Diseases                            312KB  2023-06-01 08:57:29            385         25  1.0              \n",
      "iammustafatz/diabetes-prediction-dataset                              Diabetes prediction dataset                         734KB  2023-04-08 06:11:45          14046        204  1.0              \n",
      "vstacknocopyright/fruit-and-vegetable-prices                          Fruit and Vegetable Prices                            1KB  2023-06-02 06:17:43            636         25  0.7647059        \n",
      "bilalwaseer/microsoft-stocks-from-1986-to-2023                        Microsoft Stocks from 1986 to 2023                  120KB  2023-05-16 10:07:28            783         25  0.9411765        \n",
      "darshanprabhu09/stock-prices-for                                      Stock prices of Amazon , Microsoft , Google, Apple   85KB  2023-05-16 15:17:16           1773         40  1.0              \n",
      "rajkumarpandey02/2023-world-population-by-country                      World Population by Country                         38KB  2023-06-01 06:10:41           1114         27  1.0              \n",
      "danishjmeo/karachi-housing-prices-2023                                Karachi_Housing_Prices_2023                           1MB  2023-06-01 07:08:13            405         24  0.88235295       \n",
      "adityaramachandran27/world-air-quality-index-by-city-and-coordinates  World Air Quality Index by City and Coordinates     372KB  2023-05-07 07:29:26           1694         39  1.0              \n",
      "dansbecker/melbourne-housing-snapshot                                 Melbourne Housing Snapshot                          451KB  2018-06-05 12:52:24         117205       1277  0.7058824        \n",
      "pushpakhinglaspure/oscar-dataset                                      Oscar Academy Award-winning films 1927-2022         161KB  2023-05-21 18:14:44            457         24  1.0              \n",
      "aryansingh0909/weekly-patent-application-granted                      Patent Application Granted Dataset                    6MB  2023-06-01 19:04:40            276         23  1.0              \n",
      "utkarshx27/heart-disease-diagnosis-dataset                            Heart Disease Prediction Dataset                      3KB  2023-05-26 09:33:13           1009         30  1.0              \n",
      "shreyanshverma27/water-quality-testing                                Water Quality Testing                                 4KB  2023-05-16 05:22:17           1083         31  0.9411765        \n",
      "desalegngeb/conversion-predictors-of-cis-to-multiple-sclerosis        Multiple Sclerosis Disease                            3KB  2023-05-18 09:41:09            810         29  1.0              \n"
     ]
    }
   ],
   "source": [
    "# Initializing Kaggle's Python package\n",
    "\n",
    "! mkdir ~/.kaggle\n",
    "! cp kaggle.json ~/.kaggle/\n",
    "! chmod 600 ~/.kaggle/kaggle.json\n",
    "! kaggle datasets list"
   ]
  },
  {
   "cell_type": "markdown",
   "metadata": {
    "cell_id": "3f7fa866e6bd491ab24f0b703fa41017",
    "deepnote_cell_type": "markdown"
   },
   "source": [
    "## Flowers Dataset\n",
    "Source: https://www.kaggle.com/datasets/l3llff/flowers"
   ]
  },
  {
   "cell_type": "code",
   "execution_count": 4,
   "metadata": {
    "cell_id": "f983ea7536cd4379b1f5bbc9384b357e",
    "deepnote_cell_type": "code",
    "deepnote_to_be_reexecuted": false,
    "execution_millis": 6236,
    "execution_start": 1686071628759,
    "source_hash": "c055bf55"
   },
   "outputs": [
    {
     "name": "stdout",
     "output_type": "stream",
     "text": [
      "Downloading flowers.zip to /work\n",
      " 92%|████████████████████████████████████▋   | 209M/228M [00:02<00:00, 91.6MB/s]\n",
      "100%|████████████████████████████████████████| 228M/228M [00:04<00:00, 53.8MB/s]\n"
     ]
    }
   ],
   "source": [
    "# Download Flowers dataset\n",
    "! kaggle datasets download l3llff/flowers"
   ]
  },
  {
   "cell_type": "code",
   "execution_count": 5,
   "metadata": {
    "cell_id": "32cc14d4e2e44329abe2bf20f2d04561",
    "deepnote_cell_type": "code",
    "deepnote_to_be_reexecuted": false,
    "execution_millis": 63393,
    "execution_start": 1686071634999,
    "source_hash": "ea16e34c"
   },
   "outputs": [],
   "source": [
    "# Unzip\n",
    "! unzip -qq flowers"
   ]
  },
  {
   "cell_type": "markdown",
   "metadata": {
    "cell_id": "aff951c93f4b4c2ca52c8f2e32c67fa1",
    "deepnote_cell_type": "markdown"
   },
   "source": [
    "## Animals Dataset\n",
    "Source: https://www.kaggle.com/datasets/iamsouravbanerjee/animal-image-dataset-90-different-animals"
   ]
  },
  {
   "cell_type": "code",
   "execution_count": 6,
   "metadata": {
    "cell_id": "24fe304b96f44d3bbc033c5af1c0a78c",
    "deepnote_cell_type": "code",
    "deepnote_to_be_reexecuted": false,
    "execution_millis": 8961,
    "execution_start": 1686071698395,
    "source_hash": "2da43280"
   },
   "outputs": [
    {
     "name": "stdout",
     "output_type": "stream",
     "text": [
      "Downloading animal-image-dataset-90-different-animals.zip to /work\n",
      " 98%|████████████████████████████████████████▏| 643M/656M [00:03<00:00, 266MB/s]\n",
      "100%|████████████████████████████████████████| 656M/656M [00:07<00:00, 90.3MB/s]\n"
     ]
    }
   ],
   "source": [
    "# Download 90 Animals dataset\n",
    "! kaggle datasets download iamsouravbanerjee/animal-image-dataset-90-different-animals"
   ]
  },
  {
   "cell_type": "code",
   "execution_count": 7,
   "metadata": {
    "cell_id": "266e4be14963480cb7d764e898f83e72",
    "deepnote_cell_type": "code",
    "deepnote_to_be_reexecuted": false,
    "execution_millis": 33973,
    "execution_start": 1686071707361,
    "source_hash": "57f4fccc"
   },
   "outputs": [],
   "source": [
    "# Unzip\n",
    "! unzip -qq animal-image-dataset-90-different-animals"
   ]
  },
  {
   "attachments": {},
   "cell_type": "markdown",
   "metadata": {
    "cell_id": "865bf29b464043f7820d74687b6ffbcd",
    "deepnote_cell_type": "markdown"
   },
   "source": [
    "# Structuring Datasets\n",
    "Structuring directories for each dataset.\n",
    "- This section was made with Windows as an OS in mind.\n",
    "- To execute this section on a Unix-based or cloud environment:\n",
    "    - Adjust the filepath. Change `../` to `./`.\n",
    "    - Change `ANIMAL_DL[:10]` to `ANIMAL_DL[:9]` so that it will result in `./animals`"
   ]
  },
  {
   "cell_type": "markdown",
   "metadata": {
    "cell_id": "dba244424a8740d9a768286514440e0a",
    "deepnote_cell_type": "markdown"
   },
   "source": [
    "## Raw Dataset\n",
    "Preparing dataset directories and moving raw dataset."
   ]
  },
  {
   "cell_type": "code",
   "execution_count": 5,
   "metadata": {
    "ExecuteTime": {
     "end_time": "2023-06-06T17:40:36.502722800Z",
     "start_time": "2023-06-06T17:40:34.526904500Z"
    },
    "cell_id": "f3149e669a2347c29499a57e2b692d61",
    "deepnote_cell_type": "code",
    "deepnote_to_be_reexecuted": false,
    "execution_millis": 6579,
    "execution_start": 1686071919001,
    "source_hash": "76fd4d1"
   },
   "outputs": [],
   "source": [
    "import shutil\n",
    "import os\n",
    "\n",
    "# Downloaded datasets\n",
    "ANIMAL_DL = \"../animals/animals\"\n",
    "FLOWER_DL = \"../flowers\"\n",
    "\n",
    "# New directories\n",
    "DATASET_PATH = \"../datasets/\"\n",
    "RAW_PATH = \"raw/\"\n",
    "FLORA_PATH = \"flora/\"\n",
    "FAUNA_PATH = \"fauna/\"\n",
    "\n",
    "# Create two dataset directories\n",
    "try:\n",
    "    os.makedirs(DATASET_PATH + RAW_PATH)\n",
    "    os.makedirs(DATASET_PATH + FLORA_PATH)\n",
    "    os.makedirs(DATASET_PATH + FAUNA_PATH)\n",
    "except FileExistsError:\n",
    "    print(\"File already exists\")\n",
    "\n",
    "# Removing unused files\n",
    "os.remove(\"../animal-image-dataset-90-different-animals.zip\")\n",
    "os.remove(\"../flowers.zip\")"
   ]
  },
  {
   "cell_type": "code",
   "execution_count": 9,
   "metadata": {
    "ExecuteTime": {
     "end_time": "2023-06-06T17:50:06.912998700Z",
     "start_time": "2023-06-06T17:48:19.649843200Z"
    },
    "cell_id": "e74b7235958a440e826dc1b6c881e915",
    "deepnote_cell_type": "code",
    "deepnote_to_be_reexecuted": false,
    "execution_millis": 32584,
    "execution_start": 1686072117187,
    "source_hash": "43289e82"
   },
   "outputs": [],
   "source": [
    "# Moving downloaded datasets\n",
    "ANIMAL_RAW = f\"{DATASET_PATH}{RAW_PATH}/animals\"\n",
    "FLOWER_RAW = f\"{DATASET_PATH}{RAW_PATH}/flowers\"\n",
    "\n",
    "shutil.copytree(ANIMAL_DL, ANIMAL_RAW)\n",
    "shutil.rmtree(ANIMAL_DL[:10])\n",
    "\n",
    "shutil.copytree(FLOWER_DL, FLOWER_RAW)\n",
    "shutil.rmtree(FLOWER_DL)\n",
    "\n",
    "os.rename(\"../name of the animals.txt\", f\"{ANIMAL_RAW}/animal_names.txt\")"
   ]
  },
  {
   "cell_type": "markdown",
   "metadata": {
    "cell_id": "f09084bf83e04c92b2b87080f93cb3d0",
    "deepnote_cell_type": "markdown"
   },
   "source": [
    "## Processed Dataset\n",
    "Creating processed dataset, ready for model development."
   ]
  },
  {
   "cell_type": "markdown",
   "metadata": {
    "cell_id": "0b137f79d4e6496f929ea4329ee679b8",
    "deepnote_cell_type": "text-cell-h3",
    "formattedRanges": []
   },
   "source": [
    "### Animals Dataset\n",
    "Using splitfolders to split 80/20"
   ]
  },
  {
   "cell_type": "code",
   "execution_count": 10,
   "metadata": {
    "ExecuteTime": {
     "end_time": "2023-06-06T17:57:13.477741700Z",
     "start_time": "2023-06-06T17:57:05.701307400Z"
    },
    "cell_id": "e9b788a5f8a94307b962285cb17f4f5b",
    "deepnote_cell_type": "code"
   },
   "outputs": [
    {
     "name": "stderr",
     "output_type": "stream",
     "text": [
      "Copying files: 5400 files [00:07, 697.43 files/s]\n"
     ]
    }
   ],
   "source": [
    "import splitfolders\n",
    "\n",
    "animal_input_folder = ANIMAL_RAW\n",
    "animal_output = DATASET_PATH + FAUNA_PATH\n",
    "\n",
    "splitfolders.ratio(animal_input_folder, output=animal_output, seed=1337, ratio=(.8, .2))"
   ]
  },
  {
   "attachments": {},
   "cell_type": "markdown",
   "metadata": {
    "cell_id": "d4340685b955490989f1e1039a0b9f23",
    "deepnote_cell_type": "text-cell-h3",
    "formattedRanges": []
   },
   "source": [
    "### Flowers Dataset\n",
    "Use splitfolders to split 75/25"
   ]
  },
  {
   "cell_type": "code",
   "execution_count": 21,
   "metadata": {
    "ExecuteTime": {
     "end_time": "2023-06-06T18:17:09.029839500Z",
     "start_time": "2023-06-06T18:16:47.906412200Z"
    },
    "cell_id": "bd1eefba63d94838a9efba93a5edc304",
    "deepnote_cell_type": "code"
   },
   "outputs": [
    {
     "name": "stderr",
     "output_type": "stream",
     "text": [
      "Copying files: 15740 files [00:21, 745.76 files/s]\n"
     ]
    }
   ],
   "source": [
    "flower_input_folder = FLOWER_RAW\n",
    "flower_output = DATASET_PATH + FLORA_PATH\n",
    "\n",
    "splitfolders.ratio(flower_input_folder, output=flower_output, seed=1337, ratio=(.75, .25))"
   ]
  }
 ],
 "metadata": {
  "deepnote": {},
  "deepnote_execution_queue": [],
  "deepnote_notebook_id": "fb239d60577442d69790efb34b45be3f",
  "deepnote_persisted_session": {
   "createdAt": "2023-06-06T17:03:28.257Z"
  },
  "kernelspec": {
   "display_name": "Python 3 (ipykernel)",
   "language": "python",
   "name": "python3"
  },
  "orig_nbformat": 2
 },
 "nbformat": 4,
 "nbformat_minor": 0
}
