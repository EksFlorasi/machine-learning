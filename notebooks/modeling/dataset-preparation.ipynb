{
 "cells": [
  {
   "attachments": {},
   "cell_type": "markdown",
   "metadata": {
    "cell_id": "c09a2ca34ef644348fb6de4fdfcddf1c",
    "deepnote_cell_type": "markdown"
   },
   "source": [
    "# Download Datasets\n",
    "Datasets sourced from Kaggle, make sure to prepare your Kaggle API key (kaggle.json).\n",
    "- This first section is made for users running this notebook in a cloud environment (Colab, Deepnote, etc). \n",
    "- To prepare dataset locally: \n",
    "    - Download the datasets directly from Kaggle\n",
    "    - Unzip the dataset\n",
    "    - Copy the folders to this project's directory."
   ]
  },
  {
   "cell_type": "code",
   "execution_count": 1,
   "metadata": {
    "cell_id": "37262b893c5946fb92bc0aeabf1d2327",
    "deepnote_cell_type": "code",
    "deepnote_to_be_reexecuted": false,
    "execution_millis": 3216,
    "execution_start": 1686071144495,
    "source_hash": "2509a97e",
    "vscode": {
     "languageId": "python"
    }
   },
   "outputs": [
    {
     "name": "stdout",
     "output_type": "stream",
     "text": [
      "ref                                                                   title                                                size  lastUpdated          downloadCount  voteCount  usabilityRating  \n",
      "--------------------------------------------------------------------  --------------------------------------------------  -----  -------------------  -------------  ---------  ---------------  \n",
      "arnabchaki/data-science-salaries-2023                                 Data Science Salaries 2023 💸                         25KB  2023-04-13 09:55:16          26915        750  1.0              \n",
      "tawfikelmetwally/automobile-dataset                                   Car information dataset                               6KB  2023-05-28 18:26:48           1681         47  0.9411765        \n",
      "fatihb/coffee-quality-data-cqi                                        Coffee Quality Data (CQI May-2023)                   22KB  2023-05-12 13:06:39           4237         92  1.0              \n",
      "mohithsairamreddy/salary-data                                         Salary_Data                                          17KB  2023-05-18 14:05:19           3695         72  0.88235295       \n",
      "mauryansshivam/netflix-ott-revenue-and-subscribers-csv-file           Netflix OTT Revenue and Subscribers (CSV File)        2KB  2023-05-13 17:40:23           2111         51  1.0              \n",
      "omarsobhy14/mcdonalds-revenue                                         🍟💰From Flipping Burgers to Billions: McDonald's      565B  2023-06-01 23:22:49            473         23  1.0              \n",
      "zsinghrahulk/rice-pest-and-diseases                                   Rice - Pest and Diseases                            312KB  2023-06-01 08:57:29            385         25  1.0              \n",
      "iammustafatz/diabetes-prediction-dataset                              Diabetes prediction dataset                         734KB  2023-04-08 06:11:45          14046        204  1.0              \n",
      "vstacknocopyright/fruit-and-vegetable-prices                          Fruit and Vegetable Prices                            1KB  2023-06-02 06:17:43            636         25  0.7647059        \n",
      "bilalwaseer/microsoft-stocks-from-1986-to-2023                        Microsoft Stocks from 1986 to 2023                  120KB  2023-05-16 10:07:28            783         25  0.9411765        \n",
      "darshanprabhu09/stock-prices-for                                      Stock prices of Amazon , Microsoft , Google, Apple   85KB  2023-05-16 15:17:16           1773         40  1.0              \n",
      "rajkumarpandey02/2023-world-population-by-country                      World Population by Country                         38KB  2023-06-01 06:10:41           1114         27  1.0              \n",
      "danishjmeo/karachi-housing-prices-2023                                Karachi_Housing_Prices_2023                           1MB  2023-06-01 07:08:13            405         24  0.88235295       \n",
      "adityaramachandran27/world-air-quality-index-by-city-and-coordinates  World Air Quality Index by City and Coordinates     372KB  2023-05-07 07:29:26           1694         39  1.0              \n",
      "dansbecker/melbourne-housing-snapshot                                 Melbourne Housing Snapshot                          451KB  2018-06-05 12:52:24         117205       1277  0.7058824        \n",
      "pushpakhinglaspure/oscar-dataset                                      Oscar Academy Award-winning films 1927-2022         161KB  2023-05-21 18:14:44            457         24  1.0              \n",
      "aryansingh0909/weekly-patent-application-granted                      Patent Application Granted Dataset                    6MB  2023-06-01 19:04:40            276         23  1.0              \n",
      "utkarshx27/heart-disease-diagnosis-dataset                            Heart Disease Prediction Dataset                      3KB  2023-05-26 09:33:13           1009         30  1.0              \n",
      "shreyanshverma27/water-quality-testing                                Water Quality Testing                                 4KB  2023-05-16 05:22:17           1083         31  0.9411765        \n",
      "desalegngeb/conversion-predictors-of-cis-to-multiple-sclerosis        Multiple Sclerosis Disease                            3KB  2023-05-18 09:41:09            810         29  1.0              \n"
     ]
    }
   ],
   "source": [
    "# Initializing Kaggle's Python package\n",
    "\n",
    "! mkdir ~/.kaggle\n",
    "! cp kaggle.json ~/.kaggle/\n",
    "! chmod 600 ~/.kaggle/kaggle.json\n",
    "! kaggle datasets list"
   ]
  },
  {
   "cell_type": "markdown",
   "metadata": {
    "cell_id": "ba05c6f0b5934636b17026df52fc526f",
    "deepnote_cell_type": "markdown"
   },
   "source": [
    "## Fruits and Vegetables Dataset \n",
    "Source: https://www.kaggle.com/datasets/moltean/fruits"
   ]
  },
  {
   "cell_type": "code",
   "execution_count": 2,
   "metadata": {
    "cell_id": "bbf7ce29cf644469815201d5f3a596b1",
    "deepnote_cell_type": "code",
    "deepnote_to_be_reexecuted": false,
    "execution_millis": 16128,
    "execution_start": 1686071147714,
    "source_hash": "8ca77370",
    "vscode": {
     "languageId": "python"
    }
   },
   "outputs": [
    {
     "name": "stdout",
     "output_type": "stream",
     "text": [
      "Downloading fruits.zip to /work\n",
      "100%|██████████████████████████████████████▉| 1.28G/1.28G [00:04<00:00, 325MB/s]\n",
      "100%|██████████████████████████████████████| 1.28G/1.28G [00:14<00:00, 94.0MB/s]\n"
     ]
    }
   ],
   "source": [
    "# Download Fruits360 dataset\n",
    "! kaggle datasets download moltean/fruits"
   ]
  },
  {
   "cell_type": "code",
   "execution_count": 3,
   "metadata": {
    "cell_id": "f8886236487f4132978112792b7f8097",
    "deepnote_cell_type": "code",
    "deepnote_to_be_reexecuted": false,
    "execution_millis": 464867,
    "execution_start": 1686071163849,
    "source_hash": "76e4138d",
    "vscode": {
     "languageId": "python"
    }
   },
   "outputs": [],
   "source": [
    "# Unzip\n",
    "! unzip -qq fruits"
   ]
  },
  {
   "cell_type": "markdown",
   "metadata": {
    "cell_id": "3f7fa866e6bd491ab24f0b703fa41017",
    "deepnote_cell_type": "markdown"
   },
   "source": [
    "## Flowers Dataset\n",
    "Source: https://www.kaggle.com/datasets/l3llff/flowers"
   ]
  },
  {
   "cell_type": "code",
   "execution_count": 4,
   "metadata": {
    "cell_id": "f983ea7536cd4379b1f5bbc9384b357e",
    "deepnote_cell_type": "code",
    "deepnote_to_be_reexecuted": false,
    "execution_millis": 6236,
    "execution_start": 1686071628759,
    "source_hash": "c055bf55",
    "vscode": {
     "languageId": "python"
    }
   },
   "outputs": [
    {
     "name": "stdout",
     "output_type": "stream",
     "text": [
      "Downloading flowers.zip to /work\n",
      " 92%|████████████████████████████████████▋   | 209M/228M [00:02<00:00, 91.6MB/s]\n",
      "100%|████████████████████████████████████████| 228M/228M [00:04<00:00, 53.8MB/s]\n"
     ]
    }
   ],
   "source": [
    "# Download Flowers dataset\n",
    "! kaggle datasets download l3llff/flowers"
   ]
  },
  {
   "cell_type": "code",
   "execution_count": 5,
   "metadata": {
    "cell_id": "32cc14d4e2e44329abe2bf20f2d04561",
    "deepnote_cell_type": "code",
    "deepnote_to_be_reexecuted": false,
    "execution_millis": 63393,
    "execution_start": 1686071634999,
    "source_hash": "ea16e34c",
    "vscode": {
     "languageId": "python"
    }
   },
   "outputs": [],
   "source": [
    "# Unzip\n",
    "! unzip -qq flowers"
   ]
  },
  {
   "cell_type": "markdown",
   "metadata": {
    "cell_id": "aff951c93f4b4c2ca52c8f2e32c67fa1",
    "deepnote_cell_type": "markdown"
   },
   "source": [
    "## Animals Dataset\n",
    "Source: https://www.kaggle.com/datasets/iamsouravbanerjee/animal-image-dataset-90-different-animals"
   ]
  },
  {
   "cell_type": "code",
   "execution_count": 6,
   "metadata": {
    "cell_id": "24fe304b96f44d3bbc033c5af1c0a78c",
    "deepnote_cell_type": "code",
    "deepnote_to_be_reexecuted": false,
    "execution_millis": 8961,
    "execution_start": 1686071698395,
    "source_hash": "2da43280",
    "vscode": {
     "languageId": "python"
    }
   },
   "outputs": [
    {
     "name": "stdout",
     "output_type": "stream",
     "text": [
      "Downloading animal-image-dataset-90-different-animals.zip to /work\n",
      " 98%|████████████████████████████████████████▏| 643M/656M [00:03<00:00, 266MB/s]\n",
      "100%|████████████████████████████████████████| 656M/656M [00:07<00:00, 90.3MB/s]\n"
     ]
    }
   ],
   "source": [
    "# Download 90 Animals dataset\n",
    "! kaggle datasets download iamsouravbanerjee/animal-image-dataset-90-different-animals"
   ]
  },
  {
   "cell_type": "code",
   "execution_count": 7,
   "metadata": {
    "cell_id": "266e4be14963480cb7d764e898f83e72",
    "deepnote_cell_type": "code",
    "deepnote_to_be_reexecuted": false,
    "execution_millis": 33973,
    "execution_start": 1686071707361,
    "source_hash": "57f4fccc",
    "vscode": {
     "languageId": "python"
    }
   },
   "outputs": [],
   "source": [
    "# Unzip\n",
    "! unzip -qq animal-image-dataset-90-different-animals"
   ]
  },
  {
   "attachments": {},
   "cell_type": "markdown",
   "metadata": {
    "cell_id": "865bf29b464043f7820d74687b6ffbcd",
    "deepnote_cell_type": "markdown"
   },
   "source": [
    "# Structuring Datasets\n",
    "Structuring directories for each dataset.\n",
    "- This section was made with Windows as an OS in mind.\n",
    "- To execute this section on a Unix-based or cloud environment:\n",
    "    - Adjust the filepath. Change `../` to `./`.\n",
    "    - Change `ANIMAL_DL[:10]` to `ANIMAL_DL[:9]` so that it will result in `./animals`"
   ]
  },
  {
   "cell_type": "markdown",
   "metadata": {
    "cell_id": "dba244424a8740d9a768286514440e0a",
    "deepnote_cell_type": "markdown"
   },
   "source": [
    "## Raw Dataset\n",
    "Preparing dataset directories and moving raw dataset."
   ]
  },
  {
   "cell_type": "code",
   "execution_count": 5,
   "metadata": {
    "ExecuteTime": {
     "end_time": "2023-06-06T17:40:36.502722800Z",
     "start_time": "2023-06-06T17:40:34.526904500Z"
    },
    "cell_id": "f3149e669a2347c29499a57e2b692d61",
    "deepnote_cell_type": "code",
    "deepnote_to_be_reexecuted": false,
    "execution_millis": 6579,
    "execution_start": 1686071919001,
    "source_hash": "76fd4d1",
    "vscode": {
     "languageId": "python"
    }
   },
   "outputs": [],
   "source": [
    "import shutil\n",
    "import os\n",
    "\n",
    "# Downloaded datasets\n",
    "ANIMAL_DL = \"../animals/animals\"\n",
    "FRUITS_DL = \"../fruits-360_dataset\"\n",
    "FLOWER_DL = \"../flowers\"\n",
    "\n",
    "# New directories\n",
    "DATASET_PATH = \"../datasets/\"\n",
    "RAW_PATH = \"raw/\"\n",
    "FLORA_PATH = \"flora/\"\n",
    "FAUNA_PATH = \"fauna/\"\n",
    "\n",
    "# Create two dataset directories\n",
    "try:\n",
    "    os.makedirs(DATASET_PATH + RAW_PATH)\n",
    "    os.makedirs(DATASET_PATH + FLORA_PATH)\n",
    "    os.makedirs(DATASET_PATH + FAUNA_PATH)\n",
    "except FileExistsError:\n",
    "    print(\"File already exists\")\n",
    "\n",
    "# Removing unused files\n",
    "os.remove(\"../animal-image-dataset-90-different-animals.zip\")\n",
    "os.remove(\"../fruits.zip\")\n",
    "os.remove(\"../flowers.zip\")\n",
    "shutil.rmtree(\"../fruits-360-original-size\")"
   ]
  },
  {
   "cell_type": "code",
   "execution_count": 9,
   "metadata": {
    "ExecuteTime": {
     "end_time": "2023-06-06T17:50:06.912998700Z",
     "start_time": "2023-06-06T17:48:19.649843200Z"
    },
    "cell_id": "e74b7235958a440e826dc1b6c881e915",
    "deepnote_cell_type": "code",
    "deepnote_to_be_reexecuted": false,
    "execution_millis": 32584,
    "execution_start": 1686072117187,
    "source_hash": "43289e82",
    "vscode": {
     "languageId": "python"
    }
   },
   "outputs": [],
   "source": [
    "# Moving downloaded datasets\n",
    "ANIMAL_RAW = f\"{DATASET_PATH}{RAW_PATH}/animals\"\n",
    "FRUITS_RAW = f\"{DATASET_PATH}{RAW_PATH}/fruits\"\n",
    "FLOWER_RAW = f\"{DATASET_PATH}{RAW_PATH}/flowers\"\n",
    "\n",
    "shutil.copytree(ANIMAL_DL, ANIMAL_RAW)\n",
    "shutil.rmtree(ANIMAL_DL[:10])\n",
    "\n",
    "FRUITS_DL = f\"{FRUITS_DL}/fruits-360\"\n",
    "shutil.copytree(FRUITS_DL, FRUITS_RAW)\n",
    "shutil.rmtree(FRUITS_DL)\n",
    "\n",
    "shutil.copytree(FLOWER_DL, FLOWER_RAW)\n",
    "shutil.rmtree(FLOWER_DL)\n",
    "\n",
    "os.rename(\"../name of the animals.txt\", f\"{ANIMAL_RAW}/animal_names.txt\")"
   ]
  },
  {
   "cell_type": "markdown",
   "metadata": {
    "cell_id": "f09084bf83e04c92b2b87080f93cb3d0",
    "deepnote_cell_type": "markdown"
   },
   "source": [
    "## Processed Dataset\n",
    "Creating processed dataset, ready for model development."
   ]
  },
  {
   "cell_type": "markdown",
   "metadata": {
    "cell_id": "0b137f79d4e6496f929ea4329ee679b8",
    "deepnote_cell_type": "text-cell-h3",
    "formattedRanges": []
   },
   "source": [
    "### Animals Dataset\n",
    "Using splitfolders to split 80/20"
   ]
  },
  {
   "cell_type": "code",
   "execution_count": 10,
   "metadata": {
    "ExecuteTime": {
     "end_time": "2023-06-06T17:57:13.477741700Z",
     "start_time": "2023-06-06T17:57:05.701307400Z"
    },
    "cell_id": "e9b788a5f8a94307b962285cb17f4f5b",
    "deepnote_cell_type": "code",
    "vscode": {
     "languageId": "python"
    }
   },
   "outputs": [
    {
     "name": "stderr",
     "output_type": "stream",
     "text": [
      "Copying files: 5400 files [00:07, 697.43 files/s]\n"
     ]
    }
   ],
   "source": [
    "import splitfolders\n",
    "\n",
    "animal_input_folder = ANIMAL_RAW\n",
    "animal_output = DATASET_PATH + FAUNA_PATH\n",
    "\n",
    "splitfolders.ratio(animal_input_folder, output=animal_output, seed=1337, ratio=(.8, .2))"
   ]
  },
  {
   "cell_type": "markdown",
   "metadata": {
    "cell_id": "9c874f7a9eee4107978b734d18e0c141",
    "deepnote_cell_type": "text-cell-h3",
    "formattedRanges": []
   },
   "source": [
    "### Fruits-Vegetables Dataset\n",
    "Using Training for training set, Test for validation set, and test-multiple_fruits for optional testing."
   ]
  },
  {
   "cell_type": "code",
   "execution_count": 11,
   "metadata": {
    "ExecuteTime": {
     "end_time": "2023-06-06T18:07:31.227486200Z",
     "start_time": "2023-06-06T18:05:55.650362900Z"
    },
    "cell_id": "32522d0770f94783bad526746e50d0f8",
    "deepnote_cell_type": "code",
    "vscode": {
     "languageId": "python"
    }
   },
   "outputs": [
    {
     "data": {
      "text/plain": [
       "'../datasets/flora//test'"
      ]
     },
     "execution_count": 11,
     "metadata": {},
     "output_type": "execute_result"
    }
   ],
   "source": [
    "train_src = f\"{FRUITS_RAW}/Training\"\n",
    "val_src = f\"{FRUITS_RAW}/Test\"\n",
    "test_src = f\"{FRUITS_RAW}/test-multiple_fruits\"\n",
    "\n",
    "fruits_train = f\"{DATASET_PATH}{FLORA_PATH}/train\"\n",
    "fruits_val = f\"{DATASET_PATH}{FLORA_PATH}/val\"\n",
    "fruits_test = f\"{DATASET_PATH}{FLORA_PATH}/test\"\n",
    "\n",
    "shutil.copytree(train_src, fruits_train)\n",
    "shutil.copytree(val_src, fruits_val)\n",
    "shutil.copytree(test_src, fruits_test)"
   ]
  },
  {
   "cell_type": "markdown",
   "metadata": {
    "cell_id": "d4340685b955490989f1e1039a0b9f23",
    "deepnote_cell_type": "text-cell-h3",
    "formattedRanges": []
   },
   "source": [
    "### Flowers Dataset\n",
    "Splitting and combining with fruits-vegetables"
   ]
  },
  {
   "cell_type": "code",
   "execution_count": 20,
   "metadata": {
    "ExecuteTime": {
     "end_time": "2023-06-06T18:15:19.899837900Z",
     "start_time": "2023-06-06T18:15:19.790898300Z"
    },
    "collapsed": false,
    "vscode": {
     "languageId": "python"
    }
   },
   "outputs": [
    {
     "name": "stdout",
     "output_type": "stream",
     "text": [
      "training count: 67692\n",
      "validation count: 22688\n",
      "split ratio: 0.7489710112856827\n"
     ]
    }
   ],
   "source": [
    "ft_count = sum([len(files) for r, d, files in os.walk(fruits_train)])\n",
    "fv_count = sum([len(files) for r, d, files in os.walk(fruits_val)])\n",
    "print(f\"training count: {ft_count}\\nvalidation count: {fv_count}\")\n",
    "print(f\"split ratio: {ft_count / (ft_count + fv_count)}\")"
   ]
  },
  {
   "cell_type": "code",
   "execution_count": 21,
   "metadata": {
    "ExecuteTime": {
     "end_time": "2023-06-06T18:17:09.029839500Z",
     "start_time": "2023-06-06T18:16:47.906412200Z"
    },
    "cell_id": "bd1eefba63d94838a9efba93a5edc304",
    "deepnote_cell_type": "code",
    "vscode": {
     "languageId": "python"
    }
   },
   "outputs": [
    {
     "name": "stderr",
     "output_type": "stream",
     "text": [
      "Copying files: 15740 files [00:21, 745.76 files/s]\n"
     ]
    }
   ],
   "source": [
    "flower_input_folder = FLOWER_RAW\n",
    "flower_output = DATASET_PATH + FLORA_PATH + \"flowers/\"\n",
    "\n",
    "splitfolders.ratio(flower_input_folder, output=flower_output, seed=1337, ratio=(.75, .25))"
   ]
  },
  {
   "cell_type": "code",
   "execution_count": 5,
   "metadata": {
    "vscode": {
     "languageId": "python"
    },
    "ExecuteTime": {
     "end_time": "2023-06-07T14:25:35.321419900Z",
     "start_time": "2023-06-07T14:25:12.800237900Z"
    }
   },
   "outputs": [
    {
     "data": {
      "text/plain": "['../datasets/flora/val/astilbe\\\\10373087134_927b53fb9f_c.jpg',\n '../datasets/flora/val/astilbe\\\\11018294886_306c3ce9db_c.jpg',\n '../datasets/flora/val/astilbe\\\\1311687757_92d263cf74_c.jpg',\n '../datasets/flora/val/astilbe\\\\1343712578_6357baf6fa_c.jpg',\n '../datasets/flora/val/astilbe\\\\14342765107_ee1c6211e4_c.jpg',\n '../datasets/flora/val/astilbe\\\\14391599934_1c14b12361_c.jpg',\n '../datasets/flora/val/astilbe\\\\14434033769_c575e8bee7_c.jpg',\n '../datasets/flora/val/astilbe\\\\14442232811_ca13ba6c37_c.jpg',\n '../datasets/flora/val/astilbe\\\\14478886609_53b374bbd4_c.jpg',\n '../datasets/flora/val/astilbe\\\\14495221492_56a9c0d932_c.jpg',\n '../datasets/flora/val/astilbe\\\\14513116883_2e99ec5feb_c.jpg',\n '../datasets/flora/val/astilbe\\\\14529210095_83be78a2cf_c.jpg',\n '../datasets/flora/val/astilbe\\\\14547371587_97f4f8ea63_c.jpg',\n '../datasets/flora/val/astilbe\\\\14548816391_57802aca8f_c.jpg',\n '../datasets/flora/val/astilbe\\\\14572337143_2ebb5d4e06_c.jpg',\n '../datasets/flora/val/astilbe\\\\14618332759_73f7691caf_c.jpg',\n '../datasets/flora/val/astilbe\\\\14669905715_4c272a21aa_c.jpg',\n '../datasets/flora/val/astilbe\\\\150953577_a1a1281336_c.jpg',\n '../datasets/flora/val/astilbe\\\\15349874996_d875615d13_c.jpg',\n '../datasets/flora/val/astilbe\\\\156167434_8d419ffc03_c.jpg',\n '../datasets/flora/val/astilbe\\\\16437319264_c5887d6b09_c.jpg',\n '../datasets/flora/val/astilbe\\\\176229137_1ee8d353e9_c.jpg',\n '../datasets/flora/val/astilbe\\\\18708713711_b9e0138904_c.jpg',\n '../datasets/flora/val/astilbe\\\\19704381156_0f3678b5db_c.jpg',\n '../datasets/flora/val/astilbe\\\\20110831951_bdbc014e18_c.jpg',\n '../datasets/flora/val/astilbe\\\\20578740260_12c0e3a9e0_c.jpg',\n '../datasets/flora/val/astilbe\\\\213351172_f845728d7d_c.jpg',\n '../datasets/flora/val/astilbe\\\\221797375_da1d2bd5b8_c.jpg',\n '../datasets/flora/val/astilbe\\\\2357453625_d19d74a238_c.jpg',\n '../datasets/flora/val/astilbe\\\\2486988515_a983cd081b_c.jpg',\n '../datasets/flora/val/astilbe\\\\2495084750_544cd7055c_c.jpg',\n '../datasets/flora/val/astilbe\\\\2561354959_604b4fa5aa_c.jpg',\n '../datasets/flora/val/astilbe\\\\2585663845_c17c889c5b_c.jpg',\n '../datasets/flora/val/astilbe\\\\2611632710_f2d631549a_c.jpg',\n '../datasets/flora/val/astilbe\\\\2611782654_758780596b_c.jpg',\n '../datasets/flora/val/astilbe\\\\2629356513_90e0e87839_c.jpg',\n '../datasets/flora/val/astilbe\\\\2636665681_0cbc7f724e_c.jpg',\n '../datasets/flora/val/astilbe\\\\2637453089_b6cfe9e54f_c.jpg',\n '../datasets/flora/val/astilbe\\\\2657414799_e677965acb_c.jpg',\n '../datasets/flora/val/astilbe\\\\2674376840_bef24f6770_c.jpg',\n '../datasets/flora/val/astilbe\\\\2702350884_5550de9287_c.jpg',\n '../datasets/flora/val/astilbe\\\\2705953689_c104782bf3_c.jpg',\n '../datasets/flora/val/astilbe\\\\2706238810_ca29c4baea_c.jpg',\n '../datasets/flora/val/astilbe\\\\2706760440_da50e42ac8_c.jpg',\n '../datasets/flora/val/astilbe\\\\27161543833_06602e6d62_c.jpg',\n '../datasets/flora/val/astilbe\\\\27304951221_7eda98cc9f_c.jpg',\n '../datasets/flora/val/astilbe\\\\27701562400_e3e76c062f_c.jpg',\n '../datasets/flora/val/astilbe\\\\27763628476_1955d7ac9d_c.jpg',\n '../datasets/flora/val/astilbe\\\\27776428585_cbe6362c04_c.jpg',\n '../datasets/flora/val/astilbe\\\\2779745676_a41494cc19_c.jpg',\n '../datasets/flora/val/astilbe\\\\27899650782_d4c22caf9b_c.jpg',\n '../datasets/flora/val/astilbe\\\\28209667700_aedb0cd35b_c.jpg',\n '../datasets/flora/val/astilbe\\\\28769107074_466b32938e_c.jpg',\n '../datasets/flora/val/astilbe\\\\31769819667_8b645fca42_c.jpg',\n '../datasets/flora/val/astilbe\\\\3368532936_872b48c6f3_c.jpg',\n '../datasets/flora/val/astilbe\\\\3412267929_481627e8b4_c.jpg',\n '../datasets/flora/val/astilbe\\\\3412271629_c43d3c5180_c.jpg',\n '../datasets/flora/val/astilbe\\\\3424263318_a314c9a997_c.jpg',\n '../datasets/flora/val/astilbe\\\\35117129510_337771bb18_c.jpg',\n '../datasets/flora/val/astilbe\\\\35298627541_892fca50fd_c.jpg',\n '../datasets/flora/val/astilbe\\\\35345405784_73f8257e99_c.jpg',\n '../datasets/flora/val/astilbe\\\\3633874480_8b5b6fb714_c.jpg',\n '../datasets/flora/val/astilbe\\\\36350399325_ebc998258c_c.jpg',\n '../datasets/flora/val/astilbe\\\\3644232578_61a4591700_c.jpg',\n '../datasets/flora/val/astilbe\\\\3683171608_99c9e821cb_c.jpg',\n '../datasets/flora/val/astilbe\\\\3698910076_cd0723284d_c.jpg',\n '../datasets/flora/val/astilbe\\\\3742440667_64273e0171_c.jpg',\n '../datasets/flora/val/astilbe\\\\3762779077_39198a018e_c.jpg',\n '../datasets/flora/val/astilbe\\\\3763233475_3c22f91223_c.jpg',\n '../datasets/flora/val/astilbe\\\\3764031584_5b0bb91677_c.jpg',\n '../datasets/flora/val/astilbe\\\\3801580777_bd5bd35a22_c.jpg',\n '../datasets/flora/val/astilbe\\\\3814366399_6a3801b6b0_c.jpg',\n '../datasets/flora/val/astilbe\\\\3818584587_1b87ac8a21_c.jpg',\n '../datasets/flora/val/astilbe\\\\3835804562_455364cd6f_c.jpg',\n '../datasets/flora/val/astilbe\\\\3872405653_d39ee87d58_c.jpg',\n '../datasets/flora/val/astilbe\\\\40028990362_3905657342_c.jpg',\n '../datasets/flora/val/astilbe\\\\41394266692_e522e5f250_c.jpg',\n '../datasets/flora/val/astilbe\\\\414713146_c518a9b607_c.jpg',\n '../datasets/flora/val/astilbe\\\\42861588481_47cccd1bf6_c.jpg',\n '../datasets/flora/val/astilbe\\\\43906351154_67cff17abf_c.jpg',\n '../datasets/flora/val/astilbe\\\\44023194551_a3bbd4db3b_c.jpg',\n '../datasets/flora/val/astilbe\\\\44037019471_df7ea8e658_c.jpg',\n '../datasets/flora/val/astilbe\\\\4480971767_a69356cf5c_c.jpg',\n '../datasets/flora/val/astilbe\\\\4480974207_79695bc428_c.jpg',\n '../datasets/flora/val/astilbe\\\\4481984039_e3bf2c2d31_c.jpg',\n '../datasets/flora/val/astilbe\\\\4506839721_03b1f1df6b_c.jpg',\n '../datasets/flora/val/astilbe\\\\452298345_412d599fde_c.jpg',\n '../datasets/flora/val/astilbe\\\\46601251712_6cf97aca64_c.jpg',\n '../datasets/flora/val/astilbe\\\\4666900908_97ef1f06ce_c.jpg',\n '../datasets/flora/val/astilbe\\\\4733522137_bfce22ce5c_c.jpg',\n '../datasets/flora/val/astilbe\\\\4738894003_e115723622_c.jpg',\n '../datasets/flora/val/astilbe\\\\4739206243_e947240109_c.jpg',\n '../datasets/flora/val/astilbe\\\\47737604632_a0e3e194f7_c.jpg',\n '../datasets/flora/val/astilbe\\\\4775209675_288709d8db_c.jpg',\n '../datasets/flora/val/astilbe\\\\47943479783_aa44b29eef_c.jpg',\n '../datasets/flora/val/astilbe\\\\48026904288_b3e60ddf51_c.jpg',\n '../datasets/flora/val/astilbe\\\\48060071382_3bc9934531_c.jpg',\n '../datasets/flora/val/astilbe\\\\48067562788_8133f796e5_c.jpg',\n '../datasets/flora/val/astilbe\\\\48175110101_77697e20c1_c.jpg',\n '../datasets/flora/val/astilbe\\\\48175656546_b96c6791b6_c.jpg',\n '../datasets/flora/val/astilbe\\\\48176392302_bc804be89f_c.jpg',\n '../datasets/flora/val/astilbe\\\\4824376712_58d18b1952_c.jpg',\n '../datasets/flora/val/astilbe\\\\4856318273_443071c69b_c.jpg',\n '../datasets/flora/val/astilbe\\\\4892080451_5a304c2798_c.jpg',\n '../datasets/flora/val/astilbe\\\\4892680192_3c85e965d4_c.jpg',\n '../datasets/flora/val/astilbe\\\\497095291_e4d788bb41_c.jpg',\n '../datasets/flora/val/astilbe\\\\49908224466_b416de8456_c.jpg',\n '../datasets/flora/val/astilbe\\\\4996044062_0b90316044_c.jpg',\n '../datasets/flora/val/astilbe\\\\50020213703_28d50cce4c_c.jpg',\n '../datasets/flora/val/astilbe\\\\50033618773_3776b3e021_c.jpg',\n '../datasets/flora/val/astilbe\\\\50066890342_41a15e8119_c.jpg',\n '../datasets/flora/val/astilbe\\\\50179162763_7969d69c8e_c.jpg',\n '../datasets/flora/val/astilbe\\\\50305160742_1b63ed04dc_c.jpg',\n '../datasets/flora/val/astilbe\\\\50534684176_c8d215f29f_c.jpg',\n '../datasets/flora/val/astilbe\\\\50675453211_170c2a36dc_c.jpg',\n '../datasets/flora/val/astilbe\\\\50676091391_2ae057bbd0_c.jpg',\n '../datasets/flora/val/astilbe\\\\50750055197_52e9e3f660_c.jpg',\n '../datasets/flora/val/astilbe\\\\51290813034_a3e2ced238_c.jpg',\n '../datasets/flora/val/astilbe\\\\51303358312_13519d1ce5_c.jpg',\n '../datasets/flora/val/astilbe\\\\51328976215_fed7c43dc6_c.jpg',\n '../datasets/flora/val/astilbe\\\\51381378354_9ddaf1eab0_c.jpg',\n '../datasets/flora/val/astilbe\\\\51690579742_e20539ffa0_c.jpg',\n '../datasets/flora/val/astilbe\\\\51706085157_f702ff0189_c.jpg',\n '../datasets/flora/val/astilbe\\\\5397776357_31ca3feef0_c.jpg',\n '../datasets/flora/val/astilbe\\\\564019984_80ab40d1f2_c.jpg',\n '../datasets/flora/val/astilbe\\\\564457657_75dae6ae2a_c.jpg',\n '../datasets/flora/val/astilbe\\\\564460163_a380a5f7fe_c.jpg',\n '../datasets/flora/val/astilbe\\\\5833135127_94c52ac4b3_c.jpg',\n '../datasets/flora/val/astilbe\\\\5840026487_c4a1712e28_c.jpg',\n '../datasets/flora/val/astilbe\\\\5879538500_13f6c4f2e8_c.jpg',\n '../datasets/flora/val/astilbe\\\\5879538660_ed9bc3c6c9_c.jpg',\n '../datasets/flora/val/astilbe\\\\5882719802_b5160d11a2_c.jpg',\n '../datasets/flora/val/astilbe\\\\5894399563_1fec07f314_c.jpg',\n '../datasets/flora/val/astilbe\\\\5894400019_e2ec4f344c_c.jpg',\n '../datasets/flora/val/astilbe\\\\5899734648_3199b734d6_c.jpg',\n '../datasets/flora/val/astilbe\\\\5947253680_5e79271b2e_c.jpg',\n '../datasets/flora/val/astilbe\\\\5947349690_2ff86a4e10_c.jpg',\n '../datasets/flora/val/astilbe\\\\5947566234_9af75de5ef_c.jpg',\n '../datasets/flora/val/astilbe\\\\5947566592_a44b4f047e_c.jpg',\n '../datasets/flora/val/astilbe\\\\5952830022_c8263d00c9_c.jpg',\n '../datasets/flora/val/astilbe\\\\5961587702_4d60a1cd90_c.jpg',\n '../datasets/flora/val/astilbe\\\\6006836018_b0572a2904_c.jpg',\n '../datasets/flora/val/astilbe\\\\6011416298_cd53f7510d_c.jpg',\n '../datasets/flora/val/astilbe\\\\6016477045_46ef7ff211_c.jpg',\n '../datasets/flora/val/astilbe\\\\6104900013_a302609a54_c.jpg',\n '../datasets/flora/val/astilbe\\\\6837948658_d0a9e0fd6f_c.jpg',\n '../datasets/flora/val/astilbe\\\\6837950638_dcc0eaa347_c.jpg',\n '../datasets/flora/val/astilbe\\\\6837959144_79454aec92_c.jpg',\n '../datasets/flora/val/astilbe\\\\697016523_981ee7dcb5_c.jpg',\n '../datasets/flora/val/astilbe\\\\6984078477_fcb79287b7_c.jpg',\n '../datasets/flora/val/astilbe\\\\6984083417_da4d632c2e_c.jpg',\n '../datasets/flora/val/astilbe\\\\6984084131_16427a99f6_c.jpg',\n '../datasets/flora/val/astilbe\\\\6999227810_b31396c633_c.jpg',\n '../datasets/flora/val/astilbe\\\\7030363537_a2ec8d1254_c.jpg',\n '../datasets/flora/val/astilbe\\\\7162918542_4aaa39eccd_c.jpg',\n '../datasets/flora/val/astilbe\\\\7162920042_1651332057_c.jpg',\n '../datasets/flora/val/astilbe\\\\7163758931_0a3b86d334_c.jpg',\n '../datasets/flora/val/astilbe\\\\7488504350_b5bc80340a_c.jpg',\n '../datasets/flora/val/astilbe\\\\7491103336_5540f91b51_c.jpg',\n '../datasets/flora/val/astilbe\\\\7503294564_87a0713c4f_c.jpg',\n '../datasets/flora/val/astilbe\\\\7511665878_ccd2ec72fa_c.jpg',\n '../datasets/flora/val/astilbe\\\\7529812640_2e0de94310_c.jpg',\n '../datasets/flora/val/astilbe\\\\7529818840_4738825df9_c.jpg',\n '../datasets/flora/val/astilbe\\\\7531363036_68ec2fb2bd_c.jpg',\n '../datasets/flora/val/astilbe\\\\7631237792_086dbc77b3_c.jpg',\n '../datasets/flora/val/astilbe\\\\7632597158_41ddab3bcb_c.jpg',\n '../datasets/flora/val/astilbe\\\\7674389356_28607885b3_c.jpg',\n '../datasets/flora/val/astilbe\\\\7715733246_ee053284a8_c.jpg',\n '../datasets/flora/val/astilbe\\\\7796504224_27b7ccaf8e_c.jpg',\n '../datasets/flora/val/astilbe\\\\7822691720_54539f55ac_c.jpg',\n '../datasets/flora/val/astilbe\\\\7928796468_b928a4b5b0_c.jpg',\n '../datasets/flora/val/astilbe\\\\7982591108_00d0373735_c.jpg',\n '../datasets/flora/val/astilbe\\\\838142737_7223be4991_c.jpg',\n '../datasets/flora/val/astilbe\\\\8732423760_d14a52e9ef_c.jpg',\n '../datasets/flora/val/astilbe\\\\8931492127_2338555a79_c.jpg',\n '../datasets/flora/val/astilbe\\\\897392386_8ba3713ab9_c.jpg',\n '../datasets/flora/val/astilbe\\\\9119328574_02a7503f8d_c.jpg',\n '../datasets/flora/val/astilbe\\\\9184247693_924f23d897_c.jpg',\n '../datasets/flora/val/astilbe\\\\9193425002_f3bbdd0e1f_c.jpg',\n '../datasets/flora/val/astilbe\\\\9204845067_bda21b6e62_c.jpg',\n '../datasets/flora/val/astilbe\\\\9239129599_e759388d6e_c.jpg',\n '../datasets/flora/val/astilbe\\\\9255846946_82e813c397_c.jpg',\n '../datasets/flora/val/astilbe\\\\9273027266_4f35177dc7_c.jpg',\n '../datasets/flora/val/astilbe\\\\9356660121_853d6cc68a_c.jpg',\n '../datasets/flora/val/astilbe\\\\9359242111_9bfff2c328_c.jpg',\n '../datasets/flora/val/bellflower\\\\1033821255_849fb0ddc9_c.jpg',\n '../datasets/flora/val/bellflower\\\\14153996959_dfe522f157_c.jpg',\n '../datasets/flora/val/bellflower\\\\14377164630_f2546fbfa0_c.jpg',\n '../datasets/flora/val/bellflower\\\\14384510142_c25029e910_c.jpg',\n '../datasets/flora/val/bellflower\\\\14478447735_5b2607483e_c.jpg',\n '../datasets/flora/val/bellflower\\\\14522869504_625303a099_c.jpg',\n '../datasets/flora/val/bellflower\\\\14657736033_9b19f07469_c.jpg',\n '../datasets/flora/val/bellflower\\\\14673652831_616b6395a4_c.jpg',\n '../datasets/flora/val/bellflower\\\\14740546403_b5d95d85eb_c.jpg',\n '../datasets/flora/val/bellflower\\\\14742710657_09367a3959_c.jpg',\n '../datasets/flora/val/bellflower\\\\14807116669_2b4f6079ab_c.jpg',\n '../datasets/flora/val/bellflower\\\\14947492917_4851c73a9f_c.jpg',\n '../datasets/flora/val/bellflower\\\\15034304536_22b4d56f4a_c.jpg',\n '../datasets/flora/val/bellflower\\\\15105510606_175487d1ab_c.jpg',\n '../datasets/flora/val/bellflower\\\\15224620391_1724af8f02_c.jpg',\n '../datasets/flora/val/bellflower\\\\15680437096_ffbe0f4f38_c.jpg',\n '../datasets/flora/val/bellflower\\\\16543332952_163c5259ed_c.jpg',\n '../datasets/flora/val/bellflower\\\\16615806471_50dd82ae50_c.jpg',\n '../datasets/flora/val/bellflower\\\\17218791939_a4b7aafc48_c.jpg',\n '../datasets/flora/val/bellflower\\\\17703069098_36a11da7f0_c.jpg',\n '../datasets/flora/val/bellflower\\\\18450796014_05960eac93_c.jpg',\n '../datasets/flora/val/bellflower\\\\19181517689_19fe6fc402_c.jpg',\n '../datasets/flora/val/bellflower\\\\20124775216_e57caf7bd2_c.jpg',\n '../datasets/flora/val/bellflower\\\\20205154701_cc6a934af7_c.jpg',\n '../datasets/flora/val/bellflower\\\\21027446316_3388ca5681_c.jpg',\n '../datasets/flora/val/bellflower\\\\2260629597_234aa54b32_c.jpg',\n '../datasets/flora/val/bellflower\\\\23821463849_afeab74ae4_c.jpg',\n '../datasets/flora/val/bellflower\\\\24328535062_6a9dd44672_c.jpg',\n '../datasets/flora/val/bellflower\\\\24634578127_47ea29fc6b_c.jpg',\n '../datasets/flora/val/bellflower\\\\2492340348_69faf27427_c.jpg',\n '../datasets/flora/val/bellflower\\\\2540918727_76378fcfd3_c.jpg',\n '../datasets/flora/val/bellflower\\\\25684689481_5516e05660_c.jpg',\n '../datasets/flora/val/bellflower\\\\2575491965_ebf5e65145_c.jpg',\n '../datasets/flora/val/bellflower\\\\26312378626_6fbcb513a7_c.jpg',\n '../datasets/flora/val/bellflower\\\\2659873172_d09ae234a8_c.jpg',\n '../datasets/flora/val/bellflower\\\\2661226600_3e1788b341_c.jpg',\n '../datasets/flora/val/bellflower\\\\2706111879_cb725b6243_c.jpg',\n '../datasets/flora/val/bellflower\\\\2712100417_b8beeeef3f_c.jpg',\n '../datasets/flora/val/bellflower\\\\27540284334_172770fe2d_c.jpg',\n '../datasets/flora/val/bellflower\\\\27781008184_77d5662cf3_c.jpg',\n '../datasets/flora/val/bellflower\\\\27792222647_16714e69d6_c.jpg',\n '../datasets/flora/val/bellflower\\\\27799050684_e1e587a3ac_c.jpg',\n '../datasets/flora/val/bellflower\\\\27846090916_b3e3ee678b_c.jpg',\n '../datasets/flora/val/bellflower\\\\28084070705_ddda856dc1_c.jpg',\n '../datasets/flora/val/bellflower\\\\28239255167_7401e37301_c.jpg',\n '../datasets/flora/val/bellflower\\\\28345112466_fea7032ab1_c.jpg',\n '../datasets/flora/val/bellflower\\\\28810392233_bc10575de5_c.jpg',\n '../datasets/flora/val/bellflower\\\\28925094913_6ca92873a6_c.jpg',\n '../datasets/flora/val/bellflower\\\\2904632694_a6f7541b7c_c.jpg',\n '../datasets/flora/val/bellflower\\\\29829575596_61f8c88322_c.jpg',\n '../datasets/flora/val/bellflower\\\\30585723075_6e63b8c796_c.jpg',\n '../datasets/flora/val/bellflower\\\\31454530962_16bb634ce5_c.jpg',\n '../datasets/flora/val/bellflower\\\\31663023987_9d3ce3a537_c.jpg',\n '../datasets/flora/val/bellflower\\\\32450248394_ba90b75152_c.jpg',\n '../datasets/flora/val/bellflower\\\\33046769166_7e23be3e42_c.jpg',\n '../datasets/flora/val/bellflower\\\\3325341642_5d8db07069_c.jpg',\n '../datasets/flora/val/bellflower\\\\34131611383_3a63c530ff_c.jpg',\n '../datasets/flora/val/bellflower\\\\34975920082_51c80bb8f9_c.jpg',\n '../datasets/flora/val/bellflower\\\\35063114914_11b0784065_c.jpg',\n '../datasets/flora/val/bellflower\\\\35330563773_55c3ab79cf_c.jpg',\n '../datasets/flora/val/bellflower\\\\35397732401_f201063c4f_c.jpg',\n '../datasets/flora/val/bellflower\\\\35755415710_6a61a63650_c.jpg',\n '../datasets/flora/val/bellflower\\\\35783658652_3609056264_c.jpg',\n '../datasets/flora/val/bellflower\\\\35786913363_3e197cd7d3_c.jpg',\n '../datasets/flora/val/bellflower\\\\3583034268_8b6ec9df00_c.jpg',\n '../datasets/flora/val/bellflower\\\\3589140082_dddab134df_c.jpg',\n '../datasets/flora/val/bellflower\\\\35926560645_8395dd62cb_c.jpg',\n '../datasets/flora/val/bellflower\\\\3593509520_446faf5fc8_c.jpg',\n '../datasets/flora/val/bellflower\\\\36003475006_c6c78e5241_c.jpg',\n '../datasets/flora/val/bellflower\\\\3630387722_70e6d4b1e1_c.jpg',\n '../datasets/flora/val/bellflower\\\\36333308142_0f9e4b302e_c.jpg',\n '../datasets/flora/val/bellflower\\\\3654323715_2a7864fa7c_c.jpg',\n '../datasets/flora/val/bellflower\\\\36655818275_90a82716d2_c.jpg',\n '../datasets/flora/val/bellflower\\\\3668363447_c92441b728_c.jpg',\n '../datasets/flora/val/bellflower\\\\36683803882_dc6374c6a6_c.jpg',\n '../datasets/flora/val/bellflower\\\\3672194752_29e9b055ed_c.jpg',\n '../datasets/flora/val/bellflower\\\\3672673304_73a684cc1e_c.jpg',\n '../datasets/flora/val/bellflower\\\\3681955309_789acf7995_c.jpg',\n '../datasets/flora/val/bellflower\\\\36845733753_8fe53c1522_c.jpg',\n '../datasets/flora/val/bellflower\\\\3701499332_d13e5d7031_c.jpg',\n '../datasets/flora/val/bellflower\\\\3707128676_a45175f0c0_c.jpg',\n '../datasets/flora/val/bellflower\\\\3765301248_7c0aa575ed_c.jpg',\n '../datasets/flora/val/bellflower\\\\3765810116_98c7762d39_c.jpg',\n '../datasets/flora/val/bellflower\\\\37990836445_433e22ffc7_c.jpg',\n '../datasets/flora/val/bellflower\\\\3840629388_74c5727955_c.jpg',\n '../datasets/flora/val/bellflower\\\\3933549477_df8562e1bb_c.jpg',\n '../datasets/flora/val/bellflower\\\\4037697708_59c8afef04_c.jpg',\n '../datasets/flora/val/bellflower\\\\40673406135_6c26f5beb1_c.jpg',\n '../datasets/flora/val/bellflower\\\\40716703535_6fa8cb949a_c.jpg',\n '../datasets/flora/val/bellflower\\\\40728853940_c1a1171c0a_c.jpg',\n '../datasets/flora/val/bellflower\\\\41834393710_19fdde7918_c.jpg',\n '../datasets/flora/val/bellflower\\\\4260620341_437a32b7af_c.jpg',\n '../datasets/flora/val/bellflower\\\\42637690622_ab217ef285_c.jpg',\n '../datasets/flora/val/bellflower\\\\42824769501_935a724153_c.jpg',\n '../datasets/flora/val/bellflower\\\\43595019572_c3724cc40d_c.jpg',\n '../datasets/flora/val/bellflower\\\\43969092731_d41d4e27fc_c.jpg',\n '../datasets/flora/val/bellflower\\\\44076906584_e768f7d055_c.jpg',\n '../datasets/flora/val/bellflower\\\\44312361160_af3ca3397b_c.jpg',\n '../datasets/flora/val/bellflower\\\\44388346821_556626e0f6_c.jpg',\n '../datasets/flora/val/bellflower\\\\4459106767_023acc3513_c.jpg',\n '../datasets/flora/val/bellflower\\\\45345281631_7a9c7ab7ae_c.jpg',\n '../datasets/flora/val/bellflower\\\\4611790101_88e0650da2_c.jpg',\n '../datasets/flora/val/bellflower\\\\4612420870_015bfa31e3_c.jpg',\n '../datasets/flora/val/bellflower\\\\4738070964_f815cd3d98_c.jpg',\n '../datasets/flora/val/bellflower\\\\4750400906_c3547d9631_c.jpg',\n '../datasets/flora/val/bellflower\\\\4759742311_d0cf4607d0_c.jpg',\n '../datasets/flora/val/bellflower\\\\4777089442_7abbd1c122_c.jpg',\n '../datasets/flora/val/bellflower\\\\4777587095_623881fb6f_c.jpg',\n '../datasets/flora/val/bellflower\\\\48017428046_ddc3e4d2d8_c.jpg',\n '../datasets/flora/val/bellflower\\\\48181574556_b9775dc68f_c.jpg',\n '../datasets/flora/val/bellflower\\\\48244234767_15d9ac67a1_c.jpg',\n '../datasets/flora/val/bellflower\\\\48273718891_e965259369_c.jpg',\n '../datasets/flora/val/bellflower\\\\48283285861_d049f99fa6_c.jpg',\n '../datasets/flora/val/bellflower\\\\48406594412_7084261c99_c.jpg',\n '../datasets/flora/val/bellflower\\\\4840899494_37c1a6bc5b_c.jpg',\n '../datasets/flora/val/bellflower\\\\48982249863_3db29a5198_c.jpg',\n '../datasets/flora/val/bellflower\\\\49055504583_d14cef00b6_c.jpg',\n '../datasets/flora/val/bellflower\\\\49055781997_0acfa48bd5_c.jpg',\n '../datasets/flora/val/bellflower\\\\49145873806_951d4c73d7_c.jpg',\n '../datasets/flora/val/bellflower\\\\49434213717_085a62e85e_c.jpg',\n '../datasets/flora/val/bellflower\\\\49754531527_75f0fb978b_c.jpg',\n '../datasets/flora/val/bellflower\\\\49796073878_d66933ecf6_c.jpg',\n '../datasets/flora/val/bellflower\\\\49814289096_631c324052_c.jpg',\n '../datasets/flora/val/bellflower\\\\4983218141_7fb86edf28_c.jpg',\n '../datasets/flora/val/bellflower\\\\49842928652_162478129d_c.jpg',\n '../datasets/flora/val/bellflower\\\\49845937431_b74b98b21f_c.jpg',\n '../datasets/flora/val/bellflower\\\\49880336927_397bd3a166_c.jpg',\n '../datasets/flora/val/bellflower\\\\4989037478_f209c44002_c.jpg',\n '../datasets/flora/val/bellflower\\\\49902526682_1f0ca7337d_c.jpg',\n '../datasets/flora/val/bellflower\\\\49915849921_0b8190cdc8_c.jpg',\n '../datasets/flora/val/bellflower\\\\49998772403_3cef2da323_c.jpg',\n '../datasets/flora/val/bellflower\\\\50010015563_41ce511978_c.jpg',\n '../datasets/flora/val/bellflower\\\\50017545967_51b028dec4_c.jpg',\n '../datasets/flora/val/bellflower\\\\50045070077_7637b7ea98_c.jpg',\n '../datasets/flora/val/bellflower\\\\50063350338_18c9c5fce2_c.jpg',\n '../datasets/flora/val/bellflower\\\\50073767197_ca11dbba81_c.jpg',\n '../datasets/flora/val/bellflower\\\\50088993886_4cb0f4734b_c.jpg',\n '../datasets/flora/val/bellflower\\\\50091675597_2a9f4b1342_c.jpg',\n '../datasets/flora/val/bellflower\\\\50143555541_9e58cb45cc_c.jpg',\n '../datasets/flora/val/bellflower\\\\50186292182_7e15f88cd0_c.jpg',\n '../datasets/flora/val/bellflower\\\\501909515_fa85de9ae7_c.jpg',\n '../datasets/flora/val/bellflower\\\\50222419327_0c99d113c2_c.jpg',\n '../datasets/flora/val/bellflower\\\\50231629681_cbd96293f1_c.jpg',\n '../datasets/flora/val/bellflower\\\\50235515501_71f8a08a00_c.jpg',\n '../datasets/flora/val/bellflower\\\\50279784966_9f26c8396f_c.jpg',\n '../datasets/flora/val/bellflower\\\\50279942747_89ef11da9d_c.jpg',\n '../datasets/flora/val/bellflower\\\\50280004201_7d80c58a60_c.jpg',\n '../datasets/flora/val/bellflower\\\\50451191462_5ebedd0541_c.jpg',\n '../datasets/flora/val/bellflower\\\\5048367006_4f391567d0_c.jpg',\n '../datasets/flora/val/bellflower\\\\50539601703_2b9ff7fa9e_c.jpg',\n '../datasets/flora/val/bellflower\\\\50581156673_c405478be2_c.jpg',\n '../datasets/flora/val/bellflower\\\\50687485178_38d52e51e5_c.jpg',\n '../datasets/flora/val/bellflower\\\\50730716396_eb0765247c_c.jpg',\n '../datasets/flora/val/bellflower\\\\50754060871_35819ccb6f_c.jpg',\n '../datasets/flora/val/bellflower\\\\50914440426_8eedb267ec_c.jpg',\n '../datasets/flora/val/bellflower\\\\51060320542_86004fdffa_c.jpg',\n '../datasets/flora/val/bellflower\\\\5107220502_292c287643_c.jpg',\n '../datasets/flora/val/bellflower\\\\51129269238_f24e990087_c.jpg',\n '../datasets/flora/val/bellflower\\\\51157144837_7a2ea297b7_c.jpg',\n '../datasets/flora/val/bellflower\\\\51157320017_e6d6f7e6bb_c.jpg',\n '../datasets/flora/val/bellflower\\\\51193691678_be876be799_c.jpg',\n '../datasets/flora/val/bellflower\\\\51212810293_fb7f5e222f_c.jpg',\n '../datasets/flora/val/bellflower\\\\51217223938_3c07d85109_c.jpg',\n '../datasets/flora/val/bellflower\\\\51252350935_32ee4cacb4_c.jpg',\n '../datasets/flora/val/bellflower\\\\51253730632_e79ed8bc38_c.jpg',\n '../datasets/flora/val/bellflower\\\\51258190054_cf5eb703f4_c.jpg',\n '../datasets/flora/val/bellflower\\\\51260100002_86c4a2bc3b_c.jpg',\n '../datasets/flora/val/bellflower\\\\51284271259_602a95b465_c.jpg',\n '../datasets/flora/val/bellflower\\\\51288738343_867f13264a_c.jpg',\n '../datasets/flora/val/bellflower\\\\51301816448_dc87f94395_c.jpg',\n '../datasets/flora/val/bellflower\\\\51319510890_ffd0be52be_c.jpg',\n '../datasets/flora/val/bellflower\\\\51327986001_3874fc1439_c.jpg',\n '../datasets/flora/val/bellflower\\\\51332610007_ea07d3db52_c.jpg',\n '../datasets/flora/val/bellflower\\\\51399462777_2beb65def9_c.jpg',\n '../datasets/flora/val/bellflower\\\\51409179856_da34310e41_c.jpg',\n '../datasets/flora/val/bellflower\\\\5185043432_5f1c73e7fe_c.jpg',\n '../datasets/flora/val/bellflower\\\\519650301_965f04f0dc_c.jpg',\n '../datasets/flora/val/bellflower\\\\5368249574_f950769fde_c.jpg',\n '../datasets/flora/val/bellflower\\\\5577224661_8f4a9e4230_c.jpg',\n '../datasets/flora/val/bellflower\\\\581330894_b71f169160_c.jpg',\n '../datasets/flora/val/bellflower\\\\5816258798_9c3d3a81be_c.jpg',\n '../datasets/flora/val/bellflower\\\\5858297728_7371d62dfa_c.jpg',\n '../datasets/flora/val/bellflower\\\\5896422680_9cc67248fe_c.jpg',\n '../datasets/flora/val/bellflower\\\\5899505676_dc3b41cb86_c.jpg',\n '../datasets/flora/val/bellflower\\\\5906336814_021a9a208d_c.jpg',\n '../datasets/flora/val/bellflower\\\\5912226621_1cff9e19f4_c.jpg',\n '../datasets/flora/val/bellflower\\\\5915936673_8d80e5c024_c.jpg',\n '../datasets/flora/val/bellflower\\\\5916346285_63f369cabb_c.jpg',\n '../datasets/flora/val/bellflower\\\\5918543136_82d9c0a61a_c.jpg',\n '../datasets/flora/val/bellflower\\\\5919392374_8f492977d2_c.jpg',\n '../datasets/flora/val/bellflower\\\\5967059298_bd736ac495_c.jpg',\n '../datasets/flora/val/bellflower\\\\6001660638_87bde4317c_c.jpg',\n '../datasets/flora/val/bellflower\\\\6124545365_18036aa15d_c.jpg',\n '../datasets/flora/val/bellflower\\\\6140650329_7f8ec5b88c_c.jpg',\n '../datasets/flora/val/bellflower\\\\6270528154_237dd4a0d8_c.jpg',\n '../datasets/flora/val/bellflower\\\\6289346879_db55054031_c.jpg',\n '../datasets/flora/val/bellflower\\\\6414842743_a7c8a9a4ff_c.jpg',\n '../datasets/flora/val/bellflower\\\\7166457994_899d9a6fcc_c.jpg',\n '../datasets/flora/val/bellflower\\\\7184022599_934ebcc1e5_c.jpg',\n '../datasets/flora/val/bellflower\\\\728302741_5cc5c02f2c_c.jpg',\n '../datasets/flora/val/bellflower\\\\728307977_a27551e97b_c.jpg',\n '../datasets/flora/val/bellflower\\\\7494453332_c13efb830b_c.jpg',\n '../datasets/flora/val/bellflower\\\\7505928412_cfb3e32110_c.jpg',\n '../datasets/flora/val/bellflower\\\\7552947974_75455f89e9_c.jpg',\n '../datasets/flora/val/bellflower\\\\7634492142_1d16dd3669_c.jpg',\n '../datasets/flora/val/bellflower\\\\7644581776_2689de6057_c.jpg',\n '../datasets/flora/val/bellflower\\\\7664291426_5f196ff92a_c.jpg',\n '../datasets/flora/val/bellflower\\\\7680066268_748caaa978_c.jpg',\n '../datasets/flora/val/bellflower\\\\7917958020_64f397750a_c.jpg',\n '../datasets/flora/val/bellflower\\\\8378229397_8d36777df1_c.jpg',\n '../datasets/flora/val/bellflower\\\\8569238797_189fe173dd_c.jpg',\n '../datasets/flora/val/bellflower\\\\8625618351_b6b891dbec_c.jpg',\n '../datasets/flora/val/bellflower\\\\8864355403_041cc35c46_c.jpg',\n '../datasets/flora/val/bellflower\\\\9005298825_bf64dd436d_c.jpg',\n '../datasets/flora/val/bellflower\\\\9149879099_cf2a102377_c.jpg',\n '../datasets/flora/val/bellflower\\\\9165701967_84c07fa2f0_c.jpg',\n '../datasets/flora/val/bellflower\\\\9203749634_b9834825c5_c.jpg',\n '../datasets/flora/val/bellflower\\\\9379009467_a13a135272_c.jpg',\n '../datasets/flora/val/bellflower\\\\9914935996_5b5095b292_c.jpg',\n '../datasets/flora/val/black_eyed_susan\\\\1008455024_7b27434d5c_c.jpg',\n '../datasets/flora/val/black_eyed_susan\\\\1052955587_cb7fe390cf_c.jpg',\n '../datasets/flora/val/black_eyed_susan\\\\1066371052_e91a857eb0_c.jpg',\n '../datasets/flora/val/black_eyed_susan\\\\1067110470_f84e83450f_c.jpg',\n '../datasets/flora/val/black_eyed_susan\\\\11712102606_e9a64fe952_c.jpg',\n '../datasets/flora/val/black_eyed_susan\\\\1216431770_c96331e692_c.jpg',\n '../datasets/flora/val/black_eyed_susan\\\\1253518019_1856f6a2c3_c.jpg',\n '../datasets/flora/val/black_eyed_susan\\\\1273016891_81c77182f1_c.jpg',\n '../datasets/flora/val/black_eyed_susan\\\\131588074_df9600c496_c.jpg',\n '../datasets/flora/val/black_eyed_susan\\\\1316847112_f5482cf1ed_c.jpg',\n '../datasets/flora/val/black_eyed_susan\\\\1353354493_d32d5ff85b_c.jpg',\n '../datasets/flora/val/black_eyed_susan\\\\1402908914_277d6341b9_c.jpg',\n '../datasets/flora/val/black_eyed_susan\\\\14314871359_68d09e94e8_c.jpg',\n '../datasets/flora/val/black_eyed_susan\\\\14334686038_48a7c2b5f8_c.jpg',\n '../datasets/flora/val/black_eyed_susan\\\\14388573438_36dda3b0cb_c.jpg',\n '../datasets/flora/val/black_eyed_susan\\\\14414728169_f87af119ac_c.jpg',\n '../datasets/flora/val/black_eyed_susan\\\\14508944369_31ba47baca_c.jpg',\n '../datasets/flora/val/black_eyed_susan\\\\14522253550_a0448f7b43_c.jpg',\n '../datasets/flora/val/black_eyed_susan\\\\14550773351_f99dafc405_c.jpg',\n '../datasets/flora/val/black_eyed_susan\\\\14582434616_84848d885f_c.jpg',\n '../datasets/flora/val/black_eyed_susan\\\\14625098820_c6d6abde4e_c.jpg',\n '../datasets/flora/val/black_eyed_susan\\\\14664790036_c2ec6fceeb_c.jpg',\n '../datasets/flora/val/black_eyed_susan\\\\14849429719_ba0ce0a191_c.jpg',\n '../datasets/flora/val/black_eyed_susan\\\\14860427282_4aa4575573_c.jpg',\n '../datasets/flora/val/black_eyed_susan\\\\14931367125_2e7848cbc6_c.jpg',\n '../datasets/flora/val/black_eyed_susan\\\\15189457222_f59f84c99d_c.jpg',\n '../datasets/flora/val/black_eyed_susan\\\\15316899555_502539e610_c.jpg',\n '../datasets/flora/val/black_eyed_susan\\\\15490331085_451d1553fc_c.jpg',\n '../datasets/flora/val/black_eyed_susan\\\\15583245797_a43df28135_c.jpg',\n '../datasets/flora/val/black_eyed_susan\\\\16909225721_641c12e3de_c.jpg',\n '../datasets/flora/val/black_eyed_susan\\\\18329111171_cce730509f_c.jpg',\n '../datasets/flora/val/black_eyed_susan\\\\19001070410_1b6d2ab2bc_c.jpg',\n '../datasets/flora/val/black_eyed_susan\\\\19044296453_75b6a86b7c_c.jpg',\n '../datasets/flora/val/black_eyed_susan\\\\19249361189_0d54d0a566_c.jpg',\n '../datasets/flora/val/black_eyed_susan\\\\19377441684_bef4848646_c.jpg',\n '../datasets/flora/val/black_eyed_susan\\\\19378417998_ab3368d074_c.jpg',\n '../datasets/flora/val/black_eyed_susan\\\\196984905_2fb7c7fad3_c.jpg',\n '../datasets/flora/val/black_eyed_susan\\\\19727623352_00fc60e05e_c.jpg',\n '../datasets/flora/val/black_eyed_susan\\\\19863408140_f51324ee89_c.jpg',\n '../datasets/flora/val/black_eyed_susan\\\\199243416_dbbabc4c4c_c.jpg',\n '../datasets/flora/val/black_eyed_susan\\\\19936179401_e99644e848_c.jpg',\n '../datasets/flora/val/black_eyed_susan\\\\20004247792_c55acedbcd_c.jpg',\n '../datasets/flora/val/black_eyed_susan\\\\20093369452_cfc016dee2_c.jpg',\n '../datasets/flora/val/black_eyed_susan\\\\20240345936_e9635eba3d_c.jpg',\n '../datasets/flora/val/black_eyed_susan\\\\20391415468_b5ee0f1b01_c.jpg',\n '../datasets/flora/val/black_eyed_susan\\\\20583689595_1b93a09326_c.jpg',\n '../datasets/flora/val/black_eyed_susan\\\\209203974_42c2e8f7bc_c.jpg',\n '../datasets/flora/val/black_eyed_susan\\\\21233925505_a4d77d8430_c.jpg',\n '../datasets/flora/val/black_eyed_susan\\\\21765196430_6338a92eb3_c.jpg',\n '../datasets/flora/val/black_eyed_susan\\\\227633944_8390b26d80_c.jpg',\n '../datasets/flora/val/black_eyed_susan\\\\2402572100_9aa9505551_c.jpg',\n '../datasets/flora/val/black_eyed_susan\\\\2497489668_bb2735d0ba_c.jpg',\n '../datasets/flora/val/black_eyed_susan\\\\2497489804_0cd47f15be_c.jpg',\n '../datasets/flora/val/black_eyed_susan\\\\2573692233_ddd88c7770_c.jpg',\n '../datasets/flora/val/black_eyed_susan\\\\2600911197_460f9655f3_c.jpg',\n '../datasets/flora/val/black_eyed_susan\\\\2612184786_880f68dae0_c.jpg',\n '../datasets/flora/val/black_eyed_susan\\\\2621946818_72bf946524_c.jpg',\n '../datasets/flora/val/black_eyed_susan\\\\2647451492_f82c8c9a26_c.jpg',\n '../datasets/flora/val/black_eyed_susan\\\\2647452018_3f5047b942_c.jpg',\n '../datasets/flora/val/black_eyed_susan\\\\2675249023_37d37ff635_c.jpg',\n '../datasets/flora/val/black_eyed_susan\\\\2682688519_c7165ec6f9_c.jpg',\n '../datasets/flora/val/black_eyed_susan\\\\2714540316_834971f2d7_c.jpg',\n '../datasets/flora/val/black_eyed_susan\\\\2715607944_39f6dbf77c_c.jpg',\n '../datasets/flora/val/black_eyed_susan\\\\2717848715_fafc0f45c6_c.jpg',\n '../datasets/flora/val/black_eyed_susan\\\\2729084312_a544a828f9_c.jpg',\n '../datasets/flora/val/black_eyed_susan\\\\2731251876_e8613caae9_c.jpg',\n '../datasets/flora/val/black_eyed_susan\\\\2734423747_895542d82d_c.jpg',\n '../datasets/flora/val/black_eyed_susan\\\\2737798463_8ceb904d0b_c.jpg',\n '../datasets/flora/val/black_eyed_susan\\\\2750621210_2d44f7f14d_c.jpg',\n '../datasets/flora/val/black_eyed_susan\\\\27705571472_7dacdc0867_c.jpg',\n '../datasets/flora/val/black_eyed_susan\\\\2771889733_576b6cb70f_c.jpg',\n '../datasets/flora/val/black_eyed_susan\\\\2785264487_09dfd91bc6_c.jpg',\n '../datasets/flora/val/black_eyed_susan\\\\2789480003_e2baaf2b82_c.jpg',\n '../datasets/flora/val/black_eyed_susan\\\\27982385646_fcf5fc1c30_c.jpg',\n '../datasets/flora/val/black_eyed_susan\\\\2798308606_9eb3228e34_c.jpg',\n '../datasets/flora/val/black_eyed_susan\\\\2806869001_e671ca835b_c.jpg',\n '../datasets/flora/val/black_eyed_susan\\\\2806870687_88237efc6d_c.jpg',\n '../datasets/flora/val/black_eyed_susan\\\\2818859919_737e473ae9_c.jpg',\n '../datasets/flora/val/black_eyed_susan\\\\28190099801_6b7a9a7ebf_c.jpg',\n '../datasets/flora/val/black_eyed_susan\\\\28282631915_be275e6e81_c.jpg',\n '../datasets/flora/val/black_eyed_susan\\\\28283790873_312792c5fb_c.jpg',\n '../datasets/flora/val/black_eyed_susan\\\\28578517241_acf4d2c494_c.jpg',\n '../datasets/flora/val/black_eyed_susan\\\\28596552002_93f9a67a6e_c.jpg',\n '../datasets/flora/val/black_eyed_susan\\\\28605494741_6ecdd10bd3_c.jpg',\n '../datasets/flora/val/black_eyed_susan\\\\28643839402_4a4234d855_c.jpg',\n '../datasets/flora/val/black_eyed_susan\\\\28651733756_6c9d70e81b_c.jpg',\n '../datasets/flora/val/black_eyed_susan\\\\28683254045_0a37859dd0_c.jpg',\n '../datasets/flora/val/black_eyed_susan\\\\2892814926_34d0fc88fd_c.jpg',\n '../datasets/flora/val/black_eyed_susan\\\\28964344245_9f35477a02_c.jpg',\n '../datasets/flora/val/black_eyed_susan\\\\2900875596_046e8bebcb_c.jpg',\n '../datasets/flora/val/black_eyed_susan\\\\2905590749_a3b97f2747_c.jpg',\n '../datasets/flora/val/black_eyed_susan\\\\2905610925_cde8a3e5aa_c.jpg',\n '../datasets/flora/val/black_eyed_susan\\\\2906429270_9246aed8b8_c.jpg',\n '../datasets/flora/val/black_eyed_susan\\\\2906433692_a4854039c7_c.jpg',\n '../datasets/flora/val/black_eyed_susan\\\\29214658384_ab9661f568_c.jpg',\n '../datasets/flora/val/black_eyed_susan\\\\29743805793_f2e8955624_c.jpg',\n '../datasets/flora/val/black_eyed_susan\\\\298263670_30f9bc4ece_c.jpg',\n '../datasets/flora/val/black_eyed_susan\\\\29929636484_0bb2f20fa8_c.jpg',\n '../datasets/flora/val/black_eyed_susan\\\\3002120094_d2f86f166b_c.jpg',\n '../datasets/flora/val/black_eyed_susan\\\\30536084456_a67fa9c354_c.jpg',\n '../datasets/flora/val/black_eyed_susan\\\\32289114_008ffe83ce_c.jpg',\n '../datasets/flora/val/black_eyed_susan\\\\3292045018_427da447bf_c.jpg',\n '../datasets/flora/val/black_eyed_susan\\\\3349629785_e1a2f3b18d_c.jpg',\n '../datasets/flora/val/black_eyed_susan\\\\3455964970_1337ae7afe_c.jpg',\n '../datasets/flora/val/black_eyed_susan\\\\3550293602_c16a002e17_c.jpg',\n '../datasets/flora/val/black_eyed_susan\\\\3574273087_64b57c9914_c.jpg',\n '../datasets/flora/val/black_eyed_susan\\\\3604636420_8303bd2af8_c.jpg',\n '../datasets/flora/val/black_eyed_susan\\\\361854200_370b5a3916_c.jpg',\n '../datasets/flora/val/black_eyed_susan\\\\3658803524_3184a6a560_c.jpg',\n '../datasets/flora/val/black_eyed_susan\\\\3706463914_496f286c6f_c.jpg',\n '../datasets/flora/val/black_eyed_susan\\\\3733087067_94731c2c82_c.jpg',\n '../datasets/flora/val/black_eyed_susan\\\\3744330099_790fc01837_c.jpg',\n '../datasets/flora/val/black_eyed_susan\\\\3749935057_5fe426df39_c.jpg',\n '../datasets/flora/val/black_eyed_susan\\\\3764238458_0b72192a21_c.jpg',\n '../datasets/flora/val/black_eyed_susan\\\\3764293924_41b1007492_c.jpg',\n '../datasets/flora/val/black_eyed_susan\\\\3793411769_74511ef9c0_c.jpg',\n '../datasets/flora/val/black_eyed_susan\\\\3800155548_50e77b0290_c.jpg',\n '../datasets/flora/val/black_eyed_susan\\\\3802164371_6328552f4a_c.jpg',\n '../datasets/flora/val/black_eyed_susan\\\\3806937817_83d8362097_c.jpg',\n '../datasets/flora/val/black_eyed_susan\\\\3829356609_a5e5ca2460_c.jpg',\n '../datasets/flora/val/black_eyed_susan\\\\3839281048_4b8ab31e92_c.jpg',\n '../datasets/flora/val/black_eyed_susan\\\\3841803711_6f02f34d49_c.jpg',\n '../datasets/flora/val/black_eyed_susan\\\\3853789426_952bbdc712_c.jpg',\n '../datasets/flora/val/black_eyed_susan\\\\3862342794_38170eb4e2_c.jpg',\n '../datasets/flora/val/black_eyed_susan\\\\3863675578_6f5fb399c7_c.jpg',\n '../datasets/flora/val/black_eyed_susan\\\\3869700566_695256ccb1_c.jpg',\n '../datasets/flora/val/black_eyed_susan\\\\3888156807_032263785b_c.jpg',\n '../datasets/flora/val/black_eyed_susan\\\\3890456512_c471403ab3_c.jpg',\n '../datasets/flora/val/black_eyed_susan\\\\3890518835_541539f70b_c.jpg',\n '../datasets/flora/val/black_eyed_susan\\\\3904958331_3088dae7b0_c.jpg',\n '../datasets/flora/val/black_eyed_susan\\\\4134582547_e0aed48272_c.jpg',\n '../datasets/flora/val/black_eyed_susan\\\\4231824982_1dbcc2fbe9_c.jpg',\n '../datasets/flora/val/black_eyed_susan\\\\4235020604_0b136f0f12_c.jpg',\n '../datasets/flora/val/black_eyed_susan\\\\4417653176_44f98d1594_c.jpg',\n '../datasets/flora/val/black_eyed_susan\\\\4648230343_7dffc7e6fb_c.jpg',\n '../datasets/flora/val/black_eyed_susan\\\\4667551744_ebfc2a5976_c.jpg',\n '../datasets/flora/val/black_eyed_susan\\\\4681550477_b24ff3438f_c.jpg',\n '../datasets/flora/val/black_eyed_susan\\\\4686029543_7fcf967f7e_c.jpg',\n '../datasets/flora/val/black_eyed_susan\\\\4730287715_befe30673d_c.jpg',\n '../datasets/flora/val/black_eyed_susan\\\\4750598906_cd3ecdda2a_c.jpg',\n '../datasets/flora/val/black_eyed_susan\\\\4754924554_119c673102_c.jpg',\n '../datasets/flora/val/black_eyed_susan\\\\4759244473_5eb8cebe6c_c.jpg',\n '../datasets/flora/val/black_eyed_susan\\\\4765500640_156dab44af_c.jpg',\n '../datasets/flora/val/black_eyed_susan\\\\4766069013_0a360f2eec_c.jpg',\n '../datasets/flora/val/black_eyed_susan\\\\4781956614_20c2c52c22_c.jpg',\n '../datasets/flora/val/black_eyed_susan\\\\4781956890_4d54ef91af_c.jpg',\n '../datasets/flora/val/black_eyed_susan\\\\4788192715_e295497d99_c.jpg',\n '../datasets/flora/val/black_eyed_susan\\\\4803794892_2066bb2c79_c.jpg',\n '../datasets/flora/val/black_eyed_susan\\\\4806986817_02121f9408_c.jpg',\n '../datasets/flora/val/black_eyed_susan\\\\4808809005_508a15e9c8_c.jpg',\n '../datasets/flora/val/black_eyed_susan\\\\4809960593_1274e72ce7_c.jpg',\n '../datasets/flora/val/black_eyed_susan\\\\4809966465_208ea62e02_c.jpg',\n '../datasets/flora/val/black_eyed_susan\\\\4810489069_4cd0b6c32e_c.jpg',\n '../datasets/flora/val/black_eyed_susan\\\\4810589508_7b1ebf1c76_c.jpg',\n '../datasets/flora/val/black_eyed_susan\\\\4826003570_7b309ed5d7_c.jpg',\n '../datasets/flora/val/black_eyed_susan\\\\4828172519_fe971d00aa_c.jpg',\n '../datasets/flora/val/black_eyed_susan\\\\4830472920_5c8b347438_c.jpg',\n '../datasets/flora/val/black_eyed_susan\\\\4835133636_a61c51dca0_c.jpg',\n '../datasets/flora/val/black_eyed_susan\\\\4835603319_1c5068651b_c.jpg',\n '../datasets/flora/val/black_eyed_susan\\\\4840853157_eb841277c9_c.jpg',\n '../datasets/flora/val/black_eyed_susan\\\\4861061667_96e7bf7fa2_c.jpg',\n '../datasets/flora/val/black_eyed_susan\\\\4862363320_7f9d6f66ec_c.jpg',\n '../datasets/flora/val/black_eyed_susan\\\\4865979604_500a282d8d_c.jpg',\n '../datasets/flora/val/black_eyed_susan\\\\4902261457_ab61a22fcf_c.jpg',\n '../datasets/flora/val/black_eyed_susan\\\\4902818046_6ea41d1c29_c.jpg',\n '../datasets/flora/val/black_eyed_susan\\\\4904501463_fd81066ecf_c.jpg',\n '../datasets/flora/val/black_eyed_susan\\\\4952049534_0a64ba5068_c.jpg',\n '../datasets/flora/val/black_eyed_susan\\\\4952417225_8d0efc5c30_c.jpg',\n '../datasets/flora/val/black_eyed_susan\\\\495759713_37045dbbf9_c.jpg',\n '../datasets/flora/val/black_eyed_susan\\\\5016253642_a18bbcdd4f_c.jpg',\n '../datasets/flora/val/black_eyed_susan\\\\5018412897_4d6b940676_c.jpg',\n '../datasets/flora/val/black_eyed_susan\\\\5062416050_2d7e043e6c_c.jpg',\n '../datasets/flora/val/black_eyed_susan\\\\5571352252_77c31bd50e_c.jpg',\n '../datasets/flora/val/black_eyed_susan\\\\5599041685_5edc64c71a_c.jpg',\n '../datasets/flora/val/black_eyed_susan\\\\578447463_06c7f12544_c.jpg',\n '../datasets/flora/val/black_eyed_susan\\\\5822686765_cf97d940a7_c.jpg',\n '../datasets/flora/val/black_eyed_susan\\\\5826152287_113d8c117f_c.jpg',\n '../datasets/flora/val/black_eyed_susan\\\\5878407597_6b0aa8119a_c.jpg',\n '../datasets/flora/val/black_eyed_susan\\\\5895140205_471129ec51_c.jpg',\n '../datasets/flora/val/black_eyed_susan\\\\5905175619_3933094094_c.jpg',\n '../datasets/flora/val/black_eyed_susan\\\\5905729944_58c4ca2800_c.jpg',\n '../datasets/flora/val/black_eyed_susan\\\\5924540595_6c50c320ca_c.jpg',\n '../datasets/flora/val/black_eyed_susan\\\\5930275481_6fdf789a76_c.jpg',\n '../datasets/flora/val/black_eyed_susan\\\\5952733306_418ba0f185_c.jpg',\n '../datasets/flora/val/black_eyed_susan\\\\5962767168_22810b4ccc_c.jpg',\n '../datasets/flora/val/black_eyed_susan\\\\5971915490_e1e86176db_c.jpg',\n '../datasets/flora/val/black_eyed_susan\\\\5979421041_b5080d200d_c.jpg',\n '../datasets/flora/val/black_eyed_susan\\\\5988454738_5798e75cf6_c.jpg',\n '../datasets/flora/val/black_eyed_susan\\\\5989529598_667be59003_c.jpg',\n '../datasets/flora/val/black_eyed_susan\\\\5995208204_3ffe970586_c.jpg',\n '../datasets/flora/val/black_eyed_susan\\\\6012010505_33499b2569_c.jpg',\n '../datasets/flora/val/black_eyed_susan\\\\6018857798_2ae050dc14_c.jpg',\n '../datasets/flora/val/black_eyed_susan\\\\6027402394_12f4a6c9fe_c.jpg',\n '../datasets/flora/val/black_eyed_susan\\\\6027955518_25615aa575_c.jpg',\n '../datasets/flora/val/black_eyed_susan\\\\6060177097_59dc2a5dc9_c.jpg',\n '../datasets/flora/val/black_eyed_susan\\\\6064434607_124b1dd5be_c.jpg',\n '../datasets/flora/val/black_eyed_susan\\\\6088997016_6ff0da6d70_c.jpg',\n '../datasets/flora/val/black_eyed_susan\\\\6089874156_be53252460_c.jpg',\n '../datasets/flora/val/black_eyed_susan\\\\6089876392_ef6bc6cbea_c.jpg',\n '../datasets/flora/val/black_eyed_susan\\\\6152277042_3076d709a7_c.jpg',\n '../datasets/flora/val/black_eyed_susan\\\\6173063611_b9a37a0b91_c.jpg',\n '../datasets/flora/val/black_eyed_susan\\\\6177795479_9eca6e34b6_c.jpg',\n '../datasets/flora/val/black_eyed_susan\\\\6177806807_58b501f9ca_c.jpg',\n '../datasets/flora/val/black_eyed_susan\\\\6228502660_baa7e9720c_c.jpg',\n '../datasets/flora/val/black_eyed_susan\\\\6250185825_cdc8bfe0aa_c.jpg',\n '../datasets/flora/val/black_eyed_susan\\\\6265329510_afb1cdea60_c.jpg',\n '../datasets/flora/val/black_eyed_susan\\\\627261148_81aae5ad46_c.jpg',\n '../datasets/flora/val/black_eyed_susan\\\\6525849929_25c0ed4b48_c.jpg',\n '../datasets/flora/val/black_eyed_susan\\\\6620819871_373fe1a521_c.jpg',\n '../datasets/flora/val/black_eyed_susan\\\\6864645073_878ab1c05e_c.jpg',\n '../datasets/flora/val/black_eyed_susan\\\\7270615022_7b0302e061_c.jpg',\n '../datasets/flora/val/black_eyed_susan\\\\7279181594_9e06174a5d_c.jpg',\n '../datasets/flora/val/black_eyed_susan\\\\7305721810_73cd3e06f1_c.jpg',\n '../datasets/flora/val/black_eyed_susan\\\\734240962_e527e38e5d_c.jpg',\n '../datasets/flora/val/black_eyed_susan\\\\7457718954_52b7aa7700_c.jpg',\n '../datasets/flora/val/black_eyed_susan\\\\7461433802_695d6cb214_c.jpg',\n '../datasets/flora/val/black_eyed_susan\\\\7463896376_8aa509e8c3_c.jpg',\n '../datasets/flora/val/black_eyed_susan\\\\7514908996_1b6bce21e3_c.jpg',\n '../datasets/flora/val/black_eyed_susan\\\\7605043574_b3a990543d_c.jpg',\n '../datasets/flora/val/black_eyed_susan\\\\7634248022_c19d685fd9_c.jpg',\n '../datasets/flora/val/black_eyed_susan\\\\7721545166_2e99d6aa8e_c.jpg',\n '../datasets/flora/val/black_eyed_susan\\\\7747932698_a88697b021_c.jpg',\n '../datasets/flora/val/black_eyed_susan\\\\7761949292_f5c3b9cc38_c.jpg',\n '../datasets/flora/val/black_eyed_susan\\\\7768335710_01b057e798_c.jpg',\n '../datasets/flora/val/black_eyed_susan\\\\7785039350_a3d8698e70_c.jpg',\n '../datasets/flora/val/black_eyed_susan\\\\7789118128_1c7d4c7fe9_c.jpg',\n '../datasets/flora/val/black_eyed_susan\\\\7909691500_5d5ab27d02_c.jpg',\n '../datasets/flora/val/black_eyed_susan\\\\8045498140_aaa0b9f201_c.jpg',\n '../datasets/flora/val/black_eyed_susan\\\\8080696274_f60144dcc5_c.jpg',\n '../datasets/flora/val/black_eyed_susan\\\\8293611088_3a14bff38c_c.jpg',\n '../datasets/flora/val/black_eyed_susan\\\\8375608773_4cb8fbbbef_c.jpg',\n '../datasets/flora/val/black_eyed_susan\\\\856694980_c5bb3c4598_c.jpg',\n '../datasets/flora/val/black_eyed_susan\\\\862267082_433ac9f8bf_c.jpg',\n '../datasets/flora/val/black_eyed_susan\\\\8945462956_352c386ded_c.jpg',\n '../datasets/flora/val/black_eyed_susan\\\\897588850_6876d210d6_c.jpg',\n '../datasets/flora/val/black_eyed_susan\\\\9153817676_f7d2aa957d_c.jpg',\n '../datasets/flora/val/black_eyed_susan\\\\9278717979_b26979d750_c.jpg',\n '../datasets/flora/val/black_eyed_susan\\\\9281031798_725109846d_c.jpg',\n '../datasets/flora/val/black_eyed_susan\\\\9291909679_9a21aa35e3_c.jpg',\n '../datasets/flora/val/black_eyed_susan\\\\9302996966_fe0d214841_c.jpg',\n '../datasets/flora/val/black_eyed_susan\\\\9345840601_96649523a8_c.jpg',\n '../datasets/flora/val/black_eyed_susan\\\\9382188248_3eca7d2fb1_c.jpg',\n '../datasets/flora/val/black_eyed_susan\\\\9384496635_60c9fd1a8a_c.jpg',\n '../datasets/flora/val/black_eyed_susan\\\\9425967528_a145feacb8_c.jpg',\n '../datasets/flora/val/black_eyed_susan\\\\9426782515_c987382bd6_c.jpg',\n '../datasets/flora/val/black_eyed_susan\\\\9432456304_ca4af6462c_c.jpg',\n '../datasets/flora/val/black_eyed_susan\\\\9480941683_25f455e320_c.jpg',\n '../datasets/flora/val/black_eyed_susan\\\\9538405887_4056b93cbb_c.jpg',\n '../datasets/flora/val/black_eyed_susan\\\\9609539316_b6f5724cc7_c.jpg',\n '../datasets/flora/val/black_eyed_susan\\\\9651591220_c8a4ab65f1_c.jpg',\n '../datasets/flora/val/calendula\\\\10240633354_0c8fe598e6_c.jpg',\n '../datasets/flora/val/calendula\\\\11620903604_a641169648_c.jpg',\n '../datasets/flora/val/calendula\\\\11664664725_f7b74a3bd1_c.jpg',\n '../datasets/flora/val/calendula\\\\11665456186_634c970122_c.jpg',\n '../datasets/flora/val/calendula\\\\12149914723_5eb36c9504_c.jpg',\n '../datasets/flora/val/calendula\\\\12352298415_e3167cded9_c.jpg',\n '../datasets/flora/val/calendula\\\\1372213071_994544566c_c.jpg',\n '../datasets/flora/val/calendula\\\\13859107554_9dc6ecab0d_c.jpg',\n '../datasets/flora/val/calendula\\\\14049418642_ec1255ee6f_c.jpg',\n '../datasets/flora/val/calendula\\\\1405269938_1743e1be18_c.jpg',\n '../datasets/flora/val/calendula\\\\14072548980_c0d8cfdf9f_c.jpg',\n '../datasets/flora/val/calendula\\\\1425167419_07c6915dfb_c.jpg',\n '../datasets/flora/val/calendula\\\\14334548538_50ef304587_c.jpg',\n '../datasets/flora/val/calendula\\\\14346033498_1c3273d868_c.jpg',\n '../datasets/flora/val/calendula\\\\14383399564_6c363f695b_c.jpg',\n '../datasets/flora/val/calendula\\\\14520452788_bc6859531a_c.jpg',\n '../datasets/flora/val/calendula\\\\14689135478_45ab7aaec1_c.jpg',\n '../datasets/flora/val/calendula\\\\14691412099_b631f1bccf_c.jpg',\n '../datasets/flora/val/calendula\\\\14785045847_a695aa1c42_c.jpg',\n '../datasets/flora/val/calendula\\\\14875741225_b9130072da_c.jpg',\n '../datasets/flora/val/calendula\\\\14957699784_44a5589080_c.jpg',\n '../datasets/flora/val/calendula\\\\15122096199_c2ac7e1e33_c.jpg',\n '../datasets/flora/val/calendula\\\\16095269009_382d94f311_c.jpg',\n '../datasets/flora/val/calendula\\\\16429797191_6055702a15_c.jpg',\n '../datasets/flora/val/calendula\\\\19058684781_327ceff1e0_c.jpg',\n '../datasets/flora/val/calendula\\\\1986025666_7d49def168_c.jpg',\n '../datasets/flora/val/calendula\\\\204357896_99a2b553ca_c.jpg',\n '../datasets/flora/val/calendula\\\\20530494542_eb39fe8ab7_c.jpg',\n '../datasets/flora/val/calendula\\\\20891299216_24e047d6eb_c.jpg',\n '../datasets/flora/val/calendula\\\\21664082619_e56b9acf5b_c.jpg',\n '../datasets/flora/val/calendula\\\\22157062029_95eb18c8ef_c.jpg',\n '../datasets/flora/val/calendula\\\\22305562506_087a594319_c.jpg',\n '../datasets/flora/val/calendula\\\\2237762176_2d574856e1_c.jpg',\n '../datasets/flora/val/calendula\\\\22812591445_3d905c01fa_c.jpg',\n '../datasets/flora/val/calendula\\\\2323883958_5b67a8b20c_c.jpg',\n '../datasets/flora/val/calendula\\\\23289127645_d1feaa0337_c.jpg',\n '../datasets/flora/val/calendula\\\\2415453323_c3634f8206_c.jpg',\n '../datasets/flora/val/calendula\\\\2461270632_13a11e3187_c.jpg',\n '../datasets/flora/val/calendula\\\\24924853413_433aea9c8d_c.jpg',\n '../datasets/flora/val/calendula\\\\25082964661_74334f29ce_c.jpg',\n '../datasets/flora/val/calendula\\\\2514217614_7115167630_c.jpg',\n '../datasets/flora/val/calendula\\\\2540481495_5894944989_c.jpg',\n '../datasets/flora/val/calendula\\\\25700707688_5df18f0e40_c.jpg',\n '../datasets/flora/val/calendula\\\\26103888342_5efd1758f9_c.jpg',\n '../datasets/flora/val/calendula\\\\2641733905_220062493a_c.jpg',\n '../datasets/flora/val/calendula\\\\26680563363_7535454d0a_c.jpg',\n '../datasets/flora/val/calendula\\\\27130695937_a9d19ce40f_c.jpg',\n '../datasets/flora/val/calendula\\\\2733843392_9bbbd75447_c.jpg',\n '../datasets/flora/val/calendula\\\\27574927054_d46b84c018_c.jpg',\n '../datasets/flora/val/calendula\\\\27987873488_11060ab2da_c.jpg',\n '../datasets/flora/val/calendula\\\\2799963398_f5e0583457_c.jpg',\n '../datasets/flora/val/calendula\\\\28241493954_03653353af_c.jpg',\n '../datasets/flora/val/calendula\\\\28246017667_fcca098cde_c.jpg',\n '../datasets/flora/val/calendula\\\\28462442693_63fac9df1d_c.jpg',\n '../datasets/flora/val/calendula\\\\287238364_c20b1b33a7_c.jpg',\n '../datasets/flora/val/calendula\\\\28821286026_040b4b7e7e_c.jpg',\n '../datasets/flora/val/calendula\\\\28872361200_855e931aa4_c.jpg',\n '../datasets/flora/val/calendula\\\\29641221123_9c0432faee_c.jpg',\n '../datasets/flora/val/calendula\\\\2966111114_4326d90fc3_c.jpg',\n '../datasets/flora/val/calendula\\\\30373795805_ed3b368742_c.jpg',\n '../datasets/flora/val/calendula\\\\30690109355_cbabb6dd43_c.jpg',\n '../datasets/flora/val/calendula\\\\32356595907_9a458ccd2b_c.jpg',\n '../datasets/flora/val/calendula\\\\3250015211_8cb208448e_c.jpg',\n '../datasets/flora/val/calendula\\\\32574494924_8e4acb6fdf_c.jpg',\n '../datasets/flora/val/calendula\\\\3273822138_f18e556744_c.jpg',\n '../datasets/flora/val/calendula\\\\3281499647_1e9ea96a2c_c.jpg',\n '../datasets/flora/val/calendula\\\\32831764737_4df6f5eff6_c.jpg',\n '../datasets/flora/val/calendula\\\\32967890280_0b8a1d7986_c.jpg',\n '../datasets/flora/val/calendula\\\\33403062784_f102035ca5_c.jpg',\n '../datasets/flora/val/calendula\\\\3379244056_58620b8538_c.jpg',\n '../datasets/flora/val/calendula\\\\3386752743_e2015fe841_c.jpg',\n '../datasets/flora/val/calendula\\\\34767710554_8999a10c67_c.jpg',\n '../datasets/flora/val/calendula\\\\3504869061_5fe597fec8_c.jpg',\n '../datasets/flora/val/calendula\\\\3511355934_0ec1599b00_c.jpg',\n '../datasets/flora/val/calendula\\\\3533101349_c86c190cc8_c.jpg',\n '../datasets/flora/val/calendula\\\\35335649740_933857c9ee_c.jpg',\n '../datasets/flora/val/calendula\\\\3533923506_7a18915664_c.jpg',\n '../datasets/flora/val/calendula\\\\35687161692_f14b8ff8fa_c.jpg',\n '../datasets/flora/val/calendula\\\\3576856230_a7b77c329c_c.jpg',\n '../datasets/flora/val/calendula\\\\3582449734_8c48c1cc51_c.jpg',\n '../datasets/flora/val/calendula\\\\3582450342_f0c9cbd1fc_c.jpg',\n '../datasets/flora/val/calendula\\\\3617381609_624117ff42_c.jpg',\n '../datasets/flora/val/calendula\\\\36263623902_80fca260a5_c.jpg',\n '../datasets/flora/val/calendula\\\\3638133313_3060a80b2d_c.jpg',\n '../datasets/flora/val/calendula\\\\3676299629_169305b5f2_c.jpg',\n '../datasets/flora/val/calendula\\\\3697444949_723cf22d15_c.jpg',\n '../datasets/flora/val/calendula\\\\3721636240_24170ff426_c.jpg',\n '../datasets/flora/val/calendula\\\\3728792827_c859549e30_c.jpg',\n '../datasets/flora/val/calendula\\\\37455410105_833a1d74f4_c.jpg',\n '../datasets/flora/val/calendula\\\\3748187647_d217f0a99f_c.jpg',\n '../datasets/flora/val/calendula\\\\38034173706_c6b745bf4b_c.jpg',\n '../datasets/flora/val/calendula\\\\3823185250_a5180e37e5_c.jpg',\n '../datasets/flora/val/calendula\\\\3826099991_e2f23f9aef_c.jpg',\n '../datasets/flora/val/calendula\\\\3848958093_d52871e5f6_c.jpg',\n '../datasets/flora/val/calendula\\\\3907944157_ab741171f3_c.jpg',\n '../datasets/flora/val/calendula\\\\3941388476_e989f7a972_c.jpg',\n '../datasets/flora/val/calendula\\\\3978143562_de1f1c64a8_c.jpg',\n '../datasets/flora/val/calendula\\\\3980560219_0daeafa67f_c.jpg',\n '../datasets/flora/val/calendula\\\\3985021776_59bca5d07f_c.jpg',\n '../datasets/flora/val/calendula\\\\4010411230_8a5c120bcd_c.jpg',\n '../datasets/flora/val/calendula\\\\4049791045_6164067052_c.jpg',\n '../datasets/flora/val/calendula\\\\40721686160_74f85942ae_c.jpg',\n '../datasets/flora/val/calendula\\\\4109526485_f6ff43ffa4_c.jpg',\n '../datasets/flora/val/calendula\\\\4193028438_da2cc0ee27_c.jpg',\n '../datasets/flora/val/calendula\\\\42321950630_c907c2a758_c.jpg',\n '../datasets/flora/val/calendula\\\\424215544_9f6c9fb2bb_c.jpg',\n '../datasets/flora/val/calendula\\\\4257565527_b3f817f496_c.jpg',\n '../datasets/flora/val/calendula\\\\427088089_c73975ba49_c.jpg',\n '../datasets/flora/val/calendula\\\\43088977025_410fdc041f_c.jpg',\n '../datasets/flora/val/calendula\\\\4508292138_62a350d81e_c.jpg',\n '../datasets/flora/val/calendula\\\\4527381496_21c72b277b_c.jpg',\n '../datasets/flora/val/calendula\\\\4555291506_e6fc35ffca_c.jpg',\n '../datasets/flora/val/calendula\\\\45646127234_155616f066_c.jpg',\n '../datasets/flora/val/calendula\\\\4639559746_59374c1917_c.jpg',\n '../datasets/flora/val/calendula\\\\4640917512_5df5e13078_c.jpg',\n '../datasets/flora/val/calendula\\\\4735732422_3dd86bf704_c.jpg',\n '../datasets/flora/val/calendula\\\\4768444803_714fef34ac_c.jpg',\n '../datasets/flora/val/calendula\\\\4769083250_819ec7ed85_c.jpg',\n '../datasets/flora/val/calendula\\\\47748909662_3e9c77a4af_c.jpg',\n '../datasets/flora/val/calendula\\\\47973920652_13c9bafc14_c.jpg',\n '../datasets/flora/val/calendula\\\\48097288912_1efc37ffb3_c.jpg',\n '../datasets/flora/val/calendula\\\\48097442831_c40e65db4d_c.jpg',\n '../datasets/flora/val/calendula\\\\48140192166_79d21b031c_c.jpg',\n '../datasets/flora/val/calendula\\\\48140284777_36edee666a_c.jpg',\n '../datasets/flora/val/calendula\\\\48141156726_10bc3b2951_c.jpg',\n '../datasets/flora/val/calendula\\\\481593528_a2d8956dc4_c.jpg',\n '../datasets/flora/val/calendula\\\\48274401981_38eab979d8_c.jpg',\n '../datasets/flora/val/calendula\\\\48307107131_9c2affff0d_c.jpg',\n '../datasets/flora/val/calendula\\\\48351948787_540cdfffcf_c.jpg',\n '../datasets/flora/val/calendula\\\\4838740182_6a4b510e7d_c.jpg',\n '../datasets/flora/val/calendula\\\\48615105762_d811ea0e07_c.jpg',\n '../datasets/flora/val/calendula\\\\48704773573_074ecbb0b5_c.jpg',\n '../datasets/flora/val/calendula\\\\48710527758_94fef354bb_c.jpg',\n '../datasets/flora/val/calendula\\\\48776911728_6c0fa14704_c.jpg',\n '../datasets/flora/val/calendula\\\\48837305733_20cf463c6a_c.jpg',\n '../datasets/flora/val/calendula\\\\48880904726_bb9a844019_c.jpg',\n '../datasets/flora/val/calendula\\\\48908754033_ccea492f76_c.jpg',\n '../datasets/flora/val/calendula\\\\4894649083_1c37e33474_c.jpg',\n '../datasets/flora/val/calendula\\\\4898135869_8c57459259_c.jpg',\n '../datasets/flora/val/calendula\\\\4898726292_2b30b834b1_c.jpg',\n '../datasets/flora/val/calendula\\\\4898730460_5965b0acd8_c.jpg',\n '../datasets/flora/val/calendula\\\\48990320521_2f83a7d6d8_c.jpg',\n '../datasets/flora/val/calendula\\\\49013027521_c6c1458588_c.jpg',\n '../datasets/flora/val/calendula\\\\49019577876_512734aa25_c.jpg',\n '../datasets/flora/val/calendula\\\\49326892396_e900010a8d_c.jpg',\n '../datasets/flora/val/calendula\\\\49368200556_b181360431_c.jpg',\n '../datasets/flora/val/calendula\\\\49388901456_a3d0a44cb2_c.jpg',\n '../datasets/flora/val/calendula\\\\49586053901_0ae781e2d8_c.jpg',\n '../datasets/flora/val/calendula\\\\49660707141_a40e2ccf49_c.jpg',\n '../datasets/flora/val/calendula\\\\49688522097_ddb00ab8d3_c.jpg',\n '../datasets/flora/val/calendula\\\\49700951357_b746db0105_c.jpg',\n '../datasets/flora/val/calendula\\\\49725761688_c803f1c18f_c.jpg',\n '../datasets/flora/val/calendula\\\\49729713196_c0892b301e_c.jpg',\n '../datasets/flora/val/calendula\\\\49783170923_524c3daf63_c.jpg',\n '../datasets/flora/val/calendula\\\\49814906177_94320d9795_c.jpg',\n '../datasets/flora/val/calendula\\\\49821314843_8dd6514e8b_c.jpg',\n '../datasets/flora/val/calendula\\\\49825393821_57e794fb50_c.jpg',\n '../datasets/flora/val/calendula\\\\49852388016_275cb39b95_c.jpg',\n '../datasets/flora/val/calendula\\\\49855508368_e71dd80394_c.jpg',\n '../datasets/flora/val/calendula\\\\49864757767_29378eb9a2_c.jpg',\n '../datasets/flora/val/calendula\\\\49921793398_6dc7cabbab_c.jpg',\n '../datasets/flora/val/calendula\\\\49933864617_4bc5d04442_c.jpg',\n '../datasets/flora/val/calendula\\\\49940962013_b83e00f2e2_c.jpg',\n '../datasets/flora/val/calendula\\\\50085942782_bbe1981af7_c.jpg',\n '../datasets/flora/val/calendula\\\\50096750873_fd23ef7af1_c.jpg',\n '../datasets/flora/val/calendula\\\\50145007777_062eb751d8_c.jpg',\n '../datasets/flora/val/calendula\\\\50230323026_a7a598392a_c.jpg',\n '../datasets/flora/val/calendula\\\\50265991956_a37dca54b1_c.jpg',\n '../datasets/flora/val/calendula\\\\50324333212_6eb661fb00_c.jpg',\n '../datasets/flora/val/calendula\\\\50502528431_dd8ef59cb0_c.jpg',\n '../datasets/flora/val/calendula\\\\50550857633_1011376a02_c.jpg',\n '../datasets/flora/val/calendula\\\\50554776278_d975a7e6f3_c.jpg',\n '../datasets/flora/val/calendula\\\\50828192278_7343197a8b_c.jpg',\n '../datasets/flora/val/calendula\\\\50854899581_2b553be70e_c.jpg',\n '../datasets/flora/val/calendula\\\\50905327686_4794281e18_c.jpg',\n '../datasets/flora/val/calendula\\\\50908995561_1266aa0979_c.jpg',\n '../datasets/flora/val/calendula\\\\50918085298_366d27368c_c.jpg',\n '../datasets/flora/val/calendula\\\\509858107_47335d7628_c.jpg',\n '../datasets/flora/val/calendula\\\\51006624906_3605793756_c.jpg',\n '../datasets/flora/val/calendula\\\\51030922298_ee7c458909_c.jpg',\n '../datasets/flora/val/calendula\\\\51104439937_639c164c03_c.jpg',\n '../datasets/flora/val/calendula\\\\51195467572_30a376f1fc_c.jpg',\n '../datasets/flora/val/calendula\\\\51195648445_8b159148d4_c.jpg',\n '../datasets/flora/val/calendula\\\\51254008880_52abd864b9_c.jpg',\n '../datasets/flora/val/calendula\\\\51288045569_5caa4fc947_c.jpg',\n '../datasets/flora/val/calendula\\\\51313930101_b09dce9e8c_c.jpg',\n '../datasets/flora/val/calendula\\\\51323413863_058d834d5b_c.jpg',\n '../datasets/flora/val/calendula\\\\51332389978_5b81d151f1_c.jpg',\n '../datasets/flora/val/calendula\\\\51350051359_0576a3666e_c.jpg',\n '../datasets/flora/val/calendula\\\\51355522732_ae60c19451_c.jpg',\n '../datasets/flora/val/calendula\\\\51366373607_5f0bd4c2c9_c.jpg',\n '../datasets/flora/val/calendula\\\\51407342157_63aa2461cc_c.jpg',\n '../datasets/flora/val/calendula\\\\51440594060_f393535304_c.jpg',\n '../datasets/flora/val/calendula\\\\51507442188_72e4dd4443_c.jpg',\n '../datasets/flora/val/calendula\\\\51627980704_9415b0c27b_c.jpg',\n '../datasets/flora/val/calendula\\\\51647174555_d0cd68a797_c.jpg',\n '../datasets/flora/val/calendula\\\\51711961894_ebce5ec48e_c.jpg',\n '../datasets/flora/val/calendula\\\\51758593787_9c9151273e_c.jpg',\n '../datasets/flora/val/calendula\\\\51765516149_eb21da69fe_c.jpg',\n '../datasets/flora/val/calendula\\\\5177365667_daf81523c8_c.jpg',\n '../datasets/flora/val/calendula\\\\51843794630_de889af96b_c.jpg',\n '../datasets/flora/val/calendula\\\\5273667984_868053a98a_c.jpg',\n '../datasets/flora/val/calendula\\\\528397423_d16af59b3d_c.jpg',\n '../datasets/flora/val/calendula\\\\5370406611_65071912a7_c.jpg',\n '../datasets/flora/val/calendula\\\\5388589178_38ef1e4e09_c.jpg',\n '../datasets/flora/val/calendula\\\\5423629806_336e66842f_c.jpg',\n '../datasets/flora/val/calendula\\\\5449772764_1dc37dd8bc_c.jpg',\n '../datasets/flora/val/calendula\\\\5459626433_4c7c8019b5_c.jpg',\n '../datasets/flora/val/calendula\\\\5539597286_2c3611ee25_c.jpg',\n '../datasets/flora/val/calendula\\\\5540492330_976aa524cd_c.jpg',\n '../datasets/flora/val/calendula\\\\555844_fd11e5282b_c.jpg',\n '../datasets/flora/val/calendula\\\\5710092229_8c89c20b7f_c.jpg',\n '../datasets/flora/val/calendula\\\\5738539199_89482cd8de_c.jpg',\n '../datasets/flora/val/calendula\\\\5925467304_799ba3d2ae_c.jpg',\n '../datasets/flora/val/calendula\\\\5932889882_5111cf148c_c.jpg',\n '../datasets/flora/val/calendula\\\\5963326642_a738515bc1_c.jpg',\n '../datasets/flora/val/calendula\\\\6016730150_148b745750_c.jpg',\n '../datasets/flora/val/calendula\\\\6142881661_1526380efe_c.jpg',\n '../datasets/flora/val/calendula\\\\6157575126_eb7029df6f_c.jpg',\n '../datasets/flora/val/calendula\\\\6184064014_9edc7c1293_c.jpg',\n '../datasets/flora/val/calendula\\\\6220230137_1df13383da_c.jpg',\n '../datasets/flora/val/calendula\\\\6225129133_70dcbbb59e_c.jpg',\n '../datasets/flora/val/calendula\\\\6646543797_77b7e547b4_c.jpg',\n '../datasets/flora/val/calendula\\\\6746816261_e52faa26a0_c.jpg',\n '../datasets/flora/val/calendula\\\\6775266632_b4207dfbfe_c.jpg',\n '../datasets/flora/val/calendula\\\\6943358873_d92c4df324_c.jpg',\n '../datasets/flora/val/calendula\\\\6967417155_22246d1998_c.jpg',\n '../datasets/flora/val/calendula\\\\7336793002_797d04ba02_c.jpg',\n '../datasets/flora/val/calendula\\\\7446654650_2f120773e4_c.jpg',\n '../datasets/flora/val/calendula\\\\7709783608_5e6df224ec_c.jpg',\n '../datasets/flora/val/calendula\\\\7728534666_a592949544_c.jpg',\n '../datasets/flora/val/calendula\\\\7728537052_418a653e1a_c.jpg',\n '../datasets/flora/val/calendula\\\\7754446930_41b78f27c0_c.jpg',\n '../datasets/flora/val/calendula\\\\7802746486_e58049e5bc_c.jpg',\n '../datasets/flora/val/calendula\\\\8014686682_423dc784ce_c.jpg',\n '../datasets/flora/val/calendula\\\\8059031410_d3a19fb27b_c.jpg',\n '../datasets/flora/val/calendula\\\\8146063907_96c0eae09e_c.jpg',\n '../datasets/flora/val/calendula\\\\8544495698_087643c6b6_c.jpg',\n '../datasets/flora/val/calendula\\\\8625620190_f84bfc183c_c.jpg',\n '../datasets/flora/val/calendula\\\\8686974441_c1213cc5a8_c.jpg',\n '../datasets/flora/val/calendula\\\\8731511908_d0b3ab2afc_c.jpg',\n '../datasets/flora/val/calendula\\\\8884235725_449be17a2b_c.jpg',\n '../datasets/flora/val/calendula\\\\9078670778_d388a7af05_c.jpg',\n '../datasets/flora/val/calendula\\\\9344165960_eeeac783a4_c.jpg',\n '../datasets/flora/val/calendula\\\\9383839096_d9d1b01e61_c.jpg',\n '../datasets/flora/val/california_poppy\\\\114004845_5a0468e610_c.jpg',\n '../datasets/flora/val/california_poppy\\\\131960024_c94470f068_c.jpg',\n '../datasets/flora/val/california_poppy\\\\13449742874_c2abeceb30_c.jpg',\n '../datasets/flora/val/california_poppy\\\\13479205815_a37b29b17d_c.jpg',\n '../datasets/flora/val/california_poppy\\\\13793085293_2101eb99fc_c.jpg',\n '../datasets/flora/val/california_poppy\\\\13876308413_97b36431ca_c.jpg',\n '../datasets/flora/val/california_poppy\\\\13988148769_e4da69b7b9_c.jpg',\n '../datasets/flora/val/california_poppy\\\\14004124371_fa25561bbb_c.jpg',\n '../datasets/flora/val/california_poppy\\\\14042956007_07170cf2fb_c.jpg',\n '../datasets/flora/val/california_poppy\\\\14050988577_d06b61ddfc_c.jpg',\n '../datasets/flora/val/california_poppy\\\\14089881121_0d8db49b81_c.jpg',\n '../datasets/flora/val/california_poppy\\\\14146327219_b904d0d064_c.jpg',\n '../datasets/flora/val/california_poppy\\\\14188300492_f7b0010a19_c.jpg',\n '../datasets/flora/val/california_poppy\\\\14194916063_8d1fff8996_c.jpg',\n '../datasets/flora/val/california_poppy\\\\14203005869_2c5a54c461_c.jpg',\n '../datasets/flora/val/california_poppy\\\\14246416529_cf6df546ca_c.jpg',\n '../datasets/flora/val/california_poppy\\\\14383276142_be6de19f64_c.jpg',\n '../datasets/flora/val/california_poppy\\\\14453238043_dfbeab6f93_c.jpg',\n '../datasets/flora/val/california_poppy\\\\14486911081_cb53e23fc3_c.jpg',\n '../datasets/flora/val/california_poppy\\\\14710110850_d63ba293f3_c.jpg',\n '../datasets/flora/val/california_poppy\\\\15759225206_70b4af5a13_c.jpg',\n '../datasets/flora/val/california_poppy\\\\16362987013_077be5d83a_c.jpg',\n '../datasets/flora/val/california_poppy\\\\17130401192_4b8df0df08_c.jpg',\n '../datasets/flora/val/california_poppy\\\\17617116331_dc33417b65_c.jpg',\n '../datasets/flora/val/california_poppy\\\\18341910842_a666e3f50b_c.jpg',\n '../datasets/flora/val/california_poppy\\\\2007209108_9c074e7f50_c.jpg',\n '../datasets/flora/val/california_poppy\\\\20698910013_774352a647_c.jpg',\n '../datasets/flora/val/california_poppy\\\\21229210936_a4144fa472_c.jpg',\n '../datasets/flora/val/california_poppy\\\\2234297068_3b45d0e0fc_c.jpg',\n '../datasets/flora/val/california_poppy\\\\23194445243_69c057fb86_c.jpg',\n '../datasets/flora/val/california_poppy\\\\2342305454_784034521e_c.jpg',\n '../datasets/flora/val/california_poppy\\\\23600181528_623d160704_c.jpg',\n '../datasets/flora/val/california_poppy\\\\2378809703_89b5a78590_c.jpg',\n '../datasets/flora/val/california_poppy\\\\2389364104_162d0832b1_c.jpg',\n '../datasets/flora/val/california_poppy\\\\2447391079_8ec5a29217_c.jpg',\n '../datasets/flora/val/california_poppy\\\\24558749108_dbf91739f2_c.jpg',\n '../datasets/flora/val/california_poppy\\\\25192479640_dcf801dd71_c.jpg',\n '../datasets/flora/val/california_poppy\\\\25379563904_1a886204a0_c.jpg',\n '../datasets/flora/val/california_poppy\\\\25766606024_86dce24172_c.jpg',\n '../datasets/flora/val/california_poppy\\\\25830729133_2a450ef17b_c.jpg',\n '../datasets/flora/val/california_poppy\\\\25864320065_cdb1bd8752_c.jpg',\n '../datasets/flora/val/california_poppy\\\\25920049251_2d61b2efd9_c.jpg',\n '../datasets/flora/val/california_poppy\\\\25953588510_82a33f701a_c.jpg',\n '../datasets/flora/val/california_poppy\\\\26129560671_8fe047b591_c.jpg',\n '../datasets/flora/val/california_poppy\\\\26151955235_8089593d77_c.jpg',\n '../datasets/flora/val/california_poppy\\\\26245632665_542ae4002f_c.jpg',\n '../datasets/flora/val/california_poppy\\\\26475093353_6d5a68fbc9_c.jpg',\n '../datasets/flora/val/california_poppy\\\\26743760652_cfcbac4b1e_c.jpg',\n '../datasets/flora/val/california_poppy\\\\26872843464_dc3ba19974_c.jpg',\n '../datasets/flora/val/california_poppy\\\\27385652398_f87cd5bf87_c.jpg',\n '../datasets/flora/val/california_poppy\\\\27904605444_e62b30ac56_c.jpg',\n '../datasets/flora/val/california_poppy\\\\28088343745_9a68cfd003_c.jpg',\n '../datasets/flora/val/california_poppy\\\\2811068523_24aa9a07a8_c.jpg',\n '../datasets/flora/val/california_poppy\\\\28412732205_3d78bc1965_c.jpg',\n '../datasets/flora/val/california_poppy\\\\28712400678_f44c46fc12_c.jpg',\n '../datasets/flora/val/california_poppy\\\\28722006845_8a2f2d56cf_c.jpg',\n '../datasets/flora/val/california_poppy\\\\28878179875_10c125a1df_c.jpg',\n '../datasets/flora/val/california_poppy\\\\29561088036_1080326334_c.jpg',\n '../datasets/flora/val/california_poppy\\\\29622489452_87a04bbc45_c.jpg',\n '../datasets/flora/val/california_poppy\\\\31137812453_314a0aa13f_c.jpg',\n '../datasets/flora/val/california_poppy\\\\31494994785_ecd6726e75_c.jpg',\n '../datasets/flora/val/california_poppy\\\\33102436240_9dda94f2b9_c.jpg',\n '../datasets/flora/val/california_poppy\\\\33341023371_3df0bd58e2_c.jpg',\n '../datasets/flora/val/california_poppy\\\\33355090132_e5f7556c9f_c.jpg',\n '../datasets/flora/val/california_poppy\\\\33393534451_38853e681f_c.jpg',\n '../datasets/flora/val/california_poppy\\\\3344616803_4ec9308c50_c.jpg',\n '../datasets/flora/val/california_poppy\\\\33474443956_b888f5e37d_c.jpg',\n '../datasets/flora/val/california_poppy\\\\33479368506_770a7d926a_c.jpg',\n '../datasets/flora/val/california_poppy\\\\33562869261_cd3834f0d7_c.jpg',\n '../datasets/flora/val/california_poppy\\\\3388624593_24206b24b3_c.jpg',\n '../datasets/flora/val/california_poppy\\\\33891999931_2b488c6b5f_c.jpg',\n '../datasets/flora/val/california_poppy\\\\34055908701_963b89c1be_c.jpg',\n '../datasets/flora/val/california_poppy\\\\34210543975_36a16c43d2_c.jpg',\n '../datasets/flora/val/california_poppy\\\\34210583325_1069da4a1d_c.jpg',\n '../datasets/flora/val/california_poppy\\\\34293070035_38ffa04183_c.jpg',\n '../datasets/flora/val/california_poppy\\\\34365268431_24d44b0465_c.jpg',\n '../datasets/flora/val/california_poppy\\\\3436784916_ac5ee20535_c.jpg',\n '../datasets/flora/val/california_poppy\\\\3459421288_0d3ba3371b_c.jpg',\n '../datasets/flora/val/california_poppy\\\\34628756432_d436ec41bf_c.jpg',\n '../datasets/flora/val/california_poppy\\\\34788090186_268d269b4f_c.jpg',\n '../datasets/flora/val/california_poppy\\\\34794286546_429ff71337_c.jpg',\n '../datasets/flora/val/california_poppy\\\\35329464004_649aa1a968_c.jpg',\n '../datasets/flora/val/california_poppy\\\\35335820860_63289fabe5_c.jpg',\n '../datasets/flora/val/california_poppy\\\\35417358601_9d9a80a552_c.jpg',\n '../datasets/flora/val/california_poppy\\\\35498342884_21966d3a79_c.jpg',\n '../datasets/flora/val/california_poppy\\\\35604775585_85a6222d4b_c.jpg',\n '../datasets/flora/val/california_poppy\\\\35733626341_cc4d8083fc_c.jpg',\n '../datasets/flora/val/california_poppy\\\\35819998526_8e86e6aef3_c.jpg',\n '../datasets/flora/val/california_poppy\\\\35858937872_3086f50871_c.jpg',\n '../datasets/flora/val/california_poppy\\\\35860186681_71371e0588_c.jpg',\n '../datasets/flora/val/california_poppy\\\\36270796606_ce12da8959_c.jpg',\n '../datasets/flora/val/california_poppy\\\\36506446780_e028ace991_c.jpg',\n '../datasets/flora/val/california_poppy\\\\36542296136_e5d22926c9_c.jpg',\n '../datasets/flora/val/california_poppy\\\\3723947178_6410e454d4_c.jpg',\n '../datasets/flora/val/california_poppy\\\\388526700_ae6e4d3817_c.jpg',\n '../datasets/flora/val/california_poppy\\\\40060329053_c4b3c29ffb_c.jpg',\n '../datasets/flora/val/california_poppy\\\\40319221793_4e88edff3a_c.jpg',\n '../datasets/flora/val/california_poppy\\\\40448876873_2466535d67_c.jpg',\n '../datasets/flora/val/california_poppy\\\\40448877883_263fcd93b3_c.jpg',\n '../datasets/flora/val/california_poppy\\\\40460657355_93056fd501_c.jpg',\n '../datasets/flora/val/california_poppy\\\\4088780788_890aa3e756_c.jpg',\n ...]"
     },
     "execution_count": 5,
     "metadata": {},
     "output_type": "execute_result"
    }
   ],
   "source": [
    "from distutils.dir_util import copy_tree\n",
    "\n",
    "flower_train_src = f\"{flower_output}train/\"\n",
    "flower_val_src = f\"{flower_output}val/\"\n",
    "\n",
    "flora_train = f\"{DATASET_PATH}{FLORA_PATH}train/\"\n",
    "flora_val = f\"{DATASET_PATH}{FLORA_PATH}val/\"\n",
    "\n",
    "copy_tree(flower_train_src, flora_train)\n",
    "copy_tree(flower_val_src, flora_val)"
   ]
  },
  {
   "cell_type": "code",
   "execution_count": 6,
   "outputs": [],
   "source": [
    "# Cleanup previous files\n",
    "shutil.rmtree(flower_train_src)\n",
    "shutil.rmtree(flower_val_src)"
   ],
   "metadata": {
    "collapsed": false,
    "ExecuteTime": {
     "end_time": "2023-06-07T14:26:50.437104Z",
     "start_time": "2023-06-07T14:26:46.404696100Z"
    }
   }
  }
 ],
 "metadata": {
  "deepnote": {},
  "deepnote_execution_queue": [],
  "deepnote_notebook_id": "fb239d60577442d69790efb34b45be3f",
  "deepnote_persisted_session": {
   "createdAt": "2023-06-06T17:03:28.257Z"
  },
  "kernelspec": {
   "display_name": "Python 3 (ipykernel)",
   "language": "python",
   "name": "python3"
  },
  "orig_nbformat": 2
 },
 "nbformat": 4,
 "nbformat_minor": 0
}
