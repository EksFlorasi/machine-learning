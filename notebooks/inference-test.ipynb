{
 "cells": [
  {
   "cell_type": "markdown",
   "metadata": {},
   "source": [
    "## Inference - Base64\n",
    "Convert an image to Base64 string"
   ]
  },
  {
   "cell_type": "code",
   "execution_count": 12,
   "metadata": {
    "ExecuteTime": {
     "end_time": "2023-06-14T14:57:13.061409300Z",
     "start_time": "2023-06-14T14:57:13.041144300Z"
    }
   },
   "outputs": [],
   "source": [
    "import io\n",
    "import base64\n",
    "import numpy as np\n",
    "from keras.models import load_model\n",
    "from keras.utils import load_img, img_to_array\n",
    "\n",
    "# models\n",
    "FAUNA_H5 = \"../models/fauna/h5/fauna-95-89.h5\"\n",
    "FLORA_H5 = \"../models/flora/h5/inception-model-fruits360.h5\"\n",
    "FLOWER_H5 = \"../models/flora/flower/flower5-86-87.h5\"\n",
    "MODEL_H5 = FLOWER_H5\n",
    "# labels\n",
    "FAUNA_LABEL_PATH = \"../models/fauna/fauna_labels.txt\"\n",
    "FLORA_LABEL_PATH = \"../models/flora/flora_labels.txt\"\n",
    "FLOWER_LABEL_PATH = \"../models/flora/flower/flower5_label.txt\"\n",
    "LABEL_PATH = FLOWER_LABEL_PATH\n",
    "# image specs\n",
    "IMAGE_PATH = \"../notebooks/image_tests/flora/dandelion-2.jpg\"\n",
    "TARGET_SIZE = (150, 150)\n",
    "\n",
    "with open(IMAGE_PATH, \"rb\") as image_file:\n",
    "    image_b64 = base64.b64encode(image_file.read())\n",
    "\n",
    "data = base64.b64decode(image_b64)\n",
    "image = io.BytesIO(data)"
   ]
  },
  {
   "cell_type": "code",
   "execution_count": 13,
   "metadata": {
    "ExecuteTime": {
     "end_time": "2023-06-14T14:57:14.557348600Z",
     "start_time": "2023-06-14T14:57:14.453346200Z"
    }
   },
   "outputs": [],
   "source": [
    "img_b64 = load_img(image, target_size=TARGET_SIZE)\n",
    "x_b64 = img_to_array(img_b64)\n",
    "x_b64 /= 255.0\n",
    "x_b64 = np.expand_dims(x_b64, axis=0)"
   ]
  },
  {
   "cell_type": "markdown",
   "metadata": {},
   "source": [
    "## Inference - Raw Image"
   ]
  },
  {
   "cell_type": "code",
   "execution_count": 14,
   "metadata": {
    "ExecuteTime": {
     "end_time": "2023-06-14T14:57:16.869800900Z",
     "start_time": "2023-06-14T14:57:16.784191300Z"
    }
   },
   "outputs": [],
   "source": [
    "img_raw = load_img(IMAGE_PATH, target_size=TARGET_SIZE)\n",
    "x_raw = img_to_array(img_raw)\n",
    "x_raw /= 225.0\n",
    "x_raw = np.expand_dims(x_raw, axis=0)"
   ]
  },
  {
   "cell_type": "markdown",
   "metadata": {},
   "source": [
    "## Predictions"
   ]
  },
  {
   "cell_type": "code",
   "execution_count": 15,
   "metadata": {
    "ExecuteTime": {
     "end_time": "2023-06-14T14:57:20.883703100Z",
     "start_time": "2023-06-14T14:57:18.343666200Z"
    }
   },
   "outputs": [],
   "source": [
    "with open(LABEL_PATH) as f:\n",
    "   LABEL = f.read().splitlines()\n",
    "model = load_model(MODEL_H5)"
   ]
  },
  {
   "cell_type": "code",
   "execution_count": 16,
   "metadata": {
    "ExecuteTime": {
     "end_time": "2023-06-14T14:57:22.857363Z",
     "start_time": "2023-06-14T14:57:21.186934300Z"
    }
   },
   "outputs": [
    {
     "name": "stdout",
     "output_type": "stream",
     "text": [
      "1/1 [==============================] - 2s 2s/step\n",
      "1/1 [==============================] - 0s 50ms/step\n"
     ]
    }
   ],
   "source": [
    "# B64\n",
    "pred_b64 = model.predict(x_b64)\n",
    "# Raw\n",
    "pred_raw = model.predict(x_raw)"
   ]
  },
  {
   "cell_type": "code",
   "execution_count": 17,
   "metadata": {
    "ExecuteTime": {
     "end_time": "2023-06-14T14:57:23.161594900Z",
     "start_time": "2023-06-14T14:57:23.132284200Z"
    }
   },
   "outputs": [
    {
     "name": "stdout",
     "output_type": "stream",
     "text": [
      "Base64: dandelion\n",
      "Raw: dandelion\n"
     ]
    }
   ],
   "source": [
    "result_b64 = LABEL[pred_b64.argmax(axis=1)[0]]\n",
    "result_raw = LABEL[pred_raw.argmax(axis=1)[0]]\n",
    "print(f\"Base64: {result_b64}\")\n",
    "print(f\"Raw: {result_raw}\")"
   ]
  },
  {
   "cell_type": "code",
   "execution_count": 18,
   "metadata": {
    "ExecuteTime": {
     "end_time": "2023-06-14T14:57:25.280703600Z",
     "start_time": "2023-06-14T14:57:25.261516600Z"
    }
   },
   "outputs": [
    {
     "name": "stdout",
     "output_type": "stream",
     "text": [
      "Base64: \n",
      "[('dandelion', 0.8094443), ('sunflower', 0.17421618), ('daisy', 0.014769924), ('tulip', 0.0009018862), ('rose', 0.00066766195)]\n"
     ]
    }
   ],
   "source": [
    "tuple_b64 = tuple(zip(LABEL, pred_b64.ravel()))\n",
    "tuple_b64 = sorted(tuple_b64, key=lambda x: x[1], reverse=True)\n",
    "print(\"Base64: \")\n",
    "print(tuple_b64[:5])"
   ]
  },
  {
   "cell_type": "code",
   "execution_count": 19,
   "metadata": {
    "ExecuteTime": {
     "end_time": "2023-06-14T14:57:27.233804400Z",
     "start_time": "2023-06-14T14:57:27.212313600Z"
    }
   },
   "outputs": [
    {
     "name": "stdout",
     "output_type": "stream",
     "text": [
      "Raw: \n",
      "[('dandelion', 0.839003), ('sunflower', 0.14990272), ('daisy', 0.010236469), ('tulip', 0.0004926957), ('rose', 0.00036514553)]\n"
     ]
    }
   ],
   "source": [
    "tuple_raw = tuple(zip(LABEL, pred_raw.ravel()))\n",
    "tuple_raw = sorted(tuple_raw, key=lambda x: x[1], reverse=True)\n",
    "print(\"Raw: \")\n",
    "print(tuple_raw[:5])"
   ]
  }
 ],
 "metadata": {
  "kernelspec": {
   "display_name": "Python 3",
   "language": "python",
   "name": "python3"
  },
  "language_info": {
   "codemirror_mode": {
    "name": "ipython",
    "version": 3
   },
   "file_extension": ".py",
   "mimetype": "text/x-python",
   "name": "python",
   "nbconvert_exporter": "python",
   "pygments_lexer": "ipython3",
   "version": "3.8.3"
  }
 },
 "nbformat": 4,
 "nbformat_minor": 2
}
