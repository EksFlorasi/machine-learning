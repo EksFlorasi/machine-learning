{
 "cells": [
  {
   "cell_type": "markdown",
   "source": [
    "## Inference - Base64\n",
    "Convert an image to Base64 string"
   ],
   "metadata": {
    "collapsed": false
   }
  },
  {
   "cell_type": "code",
   "execution_count": 191,
   "outputs": [],
   "source": [
    "import io\n",
    "import base64\n",
    "import numpy as np\n",
    "from keras.models import load_model\n",
    "from keras.utils import load_img, img_to_array\n",
    "\n",
    "# models\n",
    "FAUNA_H5 = \"../models/fauna/h5/fauna-95-89.h5\"\n",
    "FLORA_H5 = \"../models/flora/h5/inception-model-fruitsflowers.h5\"\n",
    "MODEL_H5 = FAUNA_H5\n",
    "# labels\n",
    "FAUNA_LABEL_PATH = \"../models/fauna/fauna_labels.txt\"\n",
    "FLORA_LABEL_PATH = \"../models/flora/flora_labels.txt\"\n",
    "LABEL_PATH = FAUNA_LABEL_PATH\n",
    "# image specs\n",
    "IMAGE_PATH = \"image_tests/fauna/dog-1.jpg\"\n",
    "TARGET_SIZE = (225, 225)\n",
    "\n",
    "with open(IMAGE_PATH, \"rb\") as image_file:\n",
    "    image_b64 = base64.b64encode(image_file.read())\n",
    "\n",
    "data = base64.b64decode(image_b64)\n",
    "image = io.BytesIO(data)"
   ],
   "metadata": {
    "collapsed": false,
    "ExecuteTime": {
     "end_time": "2023-06-13T15:37:51.533284Z",
     "start_time": "2023-06-13T15:37:51.509428400Z"
    }
   }
  },
  {
   "cell_type": "code",
   "execution_count": 192,
   "outputs": [],
   "source": [
    "img_b64 = load_img(image, target_size=TARGET_SIZE)\n",
    "x_b64 = img_to_array(img_b64)\n",
    "x_b64 /= 255.0\n",
    "x_b64 = np.expand_dims(x_b64, axis=0)"
   ],
   "metadata": {
    "collapsed": false,
    "ExecuteTime": {
     "end_time": "2023-06-13T15:37:52.906779500Z",
     "start_time": "2023-06-13T15:37:52.882232200Z"
    }
   }
  },
  {
   "cell_type": "markdown",
   "source": [
    "## Inference - Raw Image"
   ],
   "metadata": {
    "collapsed": false
   }
  },
  {
   "cell_type": "code",
   "execution_count": 193,
   "outputs": [],
   "source": [
    "img_raw = load_img(IMAGE_PATH, target_size=TARGET_SIZE)\n",
    "x_raw = img_to_array(img_raw)\n",
    "x_raw /= 225.0\n",
    "x_raw = np.expand_dims(x_raw, axis=0)"
   ],
   "metadata": {
    "collapsed": false,
    "ExecuteTime": {
     "end_time": "2023-06-13T15:37:54.780234900Z",
     "start_time": "2023-06-13T15:37:54.767401700Z"
    }
   }
  },
  {
   "cell_type": "markdown",
   "source": [
    "## Predictions"
   ],
   "metadata": {
    "collapsed": false
   }
  },
  {
   "cell_type": "code",
   "execution_count": 194,
   "outputs": [],
   "source": [
    "with open(LABEL_PATH) as f:\n",
    "    LABEL = f.read().splitlines()\n",
    "model = load_model(MODEL_H5)"
   ],
   "metadata": {
    "collapsed": false,
    "ExecuteTime": {
     "end_time": "2023-06-13T15:37:57.973336100Z",
     "start_time": "2023-06-13T15:37:56.152419300Z"
    }
   }
  },
  {
   "cell_type": "code",
   "execution_count": 195,
   "outputs": [
    {
     "name": "stdout",
     "output_type": "stream",
     "text": [
      "1/1 [==============================] - 1s 625ms/step\n",
      "1/1 [==============================] - 0s 53ms/step\n"
     ]
    }
   ],
   "source": [
    "# B64\n",
    "pred_b64 = model.predict(x_b64)\n",
    "# Raw\n",
    "pred_raw = model.predict(x_raw)"
   ],
   "metadata": {
    "collapsed": false,
    "ExecuteTime": {
     "end_time": "2023-06-13T15:37:58.725671Z",
     "start_time": "2023-06-13T15:37:57.974452900Z"
    }
   }
  },
  {
   "cell_type": "code",
   "execution_count": 196,
   "outputs": [
    {
     "name": "stdout",
     "output_type": "stream",
     "text": [
      "Base64: dog\n",
      "Raw: dog\n"
     ]
    }
   ],
   "source": [
    "result_b64 = LABEL[pred_b64.argmax(axis=1)[0]]\n",
    "result_raw = LABEL[pred_raw.argmax(axis=1)[0]]\n",
    "print(f\"Base64: {result_b64}\")\n",
    "print(f\"Raw: {result_raw}\")"
   ],
   "metadata": {
    "collapsed": false,
    "ExecuteTime": {
     "end_time": "2023-06-13T15:37:59.332673200Z",
     "start_time": "2023-06-13T15:37:59.316608400Z"
    }
   }
  },
  {
   "cell_type": "code",
   "execution_count": 197,
   "outputs": [
    {
     "name": "stdout",
     "output_type": "stream",
     "text": [
      "Base64: \n",
      "[('dog', 0.98751986), ('chimpanzee', 0.008497306), ('gorilla', 0.0022081647), ('otter', 0.0011642958), ('orangutan', 0.00033465205)]\n"
     ]
    }
   ],
   "source": [
    "tuple_b64 = tuple(zip(LABEL, pred_b64.ravel()))\n",
    "tuple_b64 = sorted(tuple_b64, key=lambda x: x[1], reverse=True)\n",
    "print(\"Base64: \")\n",
    "print(tuple_b64[:5])"
   ],
   "metadata": {
    "collapsed": false,
    "ExecuteTime": {
     "end_time": "2023-06-13T15:38:00.516772800Z",
     "start_time": "2023-06-13T15:38:00.500443900Z"
    }
   }
  },
  {
   "cell_type": "code",
   "execution_count": 198,
   "outputs": [
    {
     "name": "stdout",
     "output_type": "stream",
     "text": [
      "Raw: \n",
      "[('dog', 0.98379886), ('chimpanzee', 0.01126717), ('gorilla', 0.002932028), ('otter', 0.0012129984), ('orangutan', 0.00050072756)]\n"
     ]
    }
   ],
   "source": [
    "tuple_raw = tuple(zip(LABEL, pred_raw.ravel()))\n",
    "tuple_raw = sorted(tuple_raw, key=lambda x: x[1], reverse=True)\n",
    "print(\"Raw: \")\n",
    "print(tuple_raw[:5])"
   ],
   "metadata": {
    "collapsed": false,
    "ExecuteTime": {
     "end_time": "2023-06-13T15:38:01.850154Z",
     "start_time": "2023-06-13T15:38:01.830478100Z"
    }
   }
  }
 ],
 "metadata": {
  "language_info": {
   "name": "python"
  },
  "orig_nbformat": 4,
  "kernelspec": {
   "name": "python3",
   "language": "python",
   "display_name": "Python 3 (ipykernel)"
  }
 },
 "nbformat": 4,
 "nbformat_minor": 2
}
