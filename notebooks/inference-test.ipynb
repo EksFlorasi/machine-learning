{
 "cells": [
  {
   "cell_type": "markdown",
   "source": [
    "## Inference - Base64\n",
    "Convert an image to Base64 string"
   ],
   "metadata": {
    "collapsed": false
   }
  },
  {
   "cell_type": "code",
   "execution_count": 1,
   "outputs": [],
   "source": [
    "import io\n",
    "import base64\n",
    "import numpy as np\n",
    "from keras.models import load_model\n",
    "from keras.utils import load_img, img_to_array\n",
    "\n",
    "IMAGE_PATH = \"image_tests/fauna/sample_image.jpg\"\n",
    "TARGET_SIZE = (225, 225)\n",
    "\n",
    "with open(IMAGE_PATH, \"rb\") as image_file:\n",
    "    image_b64 = base64.b64encode(image_file.read())\n",
    "\n",
    "data = base64.b64decode(image_b64)\n",
    "image = io.BytesIO(data)"
   ],
   "metadata": {
    "collapsed": false,
    "ExecuteTime": {
     "end_time": "2023-06-13T14:09:54.304283600Z",
     "start_time": "2023-06-13T14:09:48.673985400Z"
    }
   }
  },
  {
   "cell_type": "code",
   "execution_count": 2,
   "outputs": [],
   "source": [
    "img_b64 = load_img(image, target_size=TARGET_SIZE)\n",
    "x_b64 = img_to_array(img_b64)\n",
    "x_b64 /= 255.0\n",
    "x_b64 = np.expand_dims(x_b64, axis=0)"
   ],
   "metadata": {
    "collapsed": false,
    "ExecuteTime": {
     "end_time": "2023-06-13T14:09:54.356539900Z",
     "start_time": "2023-06-13T14:09:54.309867400Z"
    }
   }
  },
  {
   "cell_type": "markdown",
   "source": [
    "## Inference - Raw Image"
   ],
   "metadata": {
    "collapsed": false
   }
  },
  {
   "cell_type": "code",
   "execution_count": 3,
   "outputs": [],
   "source": [
    "img_raw = load_img(IMAGE_PATH, target_size=TARGET_SIZE)\n",
    "x_raw = img_to_array(img_raw)\n",
    "x_raw /= 225.0\n",
    "x_raw = np.expand_dims(x_raw, axis=0)"
   ],
   "metadata": {
    "collapsed": false,
    "ExecuteTime": {
     "end_time": "2023-06-13T14:09:56.711545500Z",
     "start_time": "2023-06-13T14:09:56.664174500Z"
    }
   }
  },
  {
   "cell_type": "markdown",
   "source": [
    "## Predictions"
   ],
   "metadata": {
    "collapsed": false
   }
  },
  {
   "cell_type": "code",
   "execution_count": 6,
   "outputs": [],
   "source": [
    "FAUNA_H5 = \"../models/fauna/h5/fauna-95-89.h5\"\n",
    "\n",
    "with open(\"../models/fauna/fauna_labels.txt\") as f:\n",
    "    FAUNA_LABEL = f.read().splitlines()\n",
    "\n",
    "model = load_model(FAUNA_H5)"
   ],
   "metadata": {
    "collapsed": false,
    "ExecuteTime": {
     "end_time": "2023-06-13T14:10:25.833374400Z",
     "start_time": "2023-06-13T14:10:22.681131400Z"
    }
   }
  },
  {
   "cell_type": "code",
   "execution_count": 7,
   "outputs": [
    {
     "name": "stdout",
     "output_type": "stream",
     "text": [
      "1/1 [==============================] - 1s 1s/step\n",
      "1/1 [==============================] - 0s 76ms/step\n"
     ]
    }
   ],
   "source": [
    "# B64\n",
    "pred_b64 = model.predict(x_b64)\n",
    "# Raw\n",
    "pred_raw = model.predict(x_raw)"
   ],
   "metadata": {
    "collapsed": false,
    "ExecuteTime": {
     "end_time": "2023-06-13T14:12:06.475366700Z",
     "start_time": "2023-06-13T14:12:04.803204700Z"
    }
   }
  },
  {
   "cell_type": "code",
   "execution_count": 8,
   "outputs": [
    {
     "name": "stdout",
     "output_type": "stream",
     "text": [
      "Base64: dog\n",
      "Raw: dog\n"
     ]
    }
   ],
   "source": [
    "result_b64 = FAUNA_LABEL[pred_b64.argmax(axis=1)[0]]\n",
    "result_raw = FAUNA_LABEL[pred_raw.argmax(axis=1)[0]]\n",
    "print(f\"Base64: {result_b64}\")\n",
    "print(f\"Raw: {result_raw}\")"
   ],
   "metadata": {
    "collapsed": false,
    "ExecuteTime": {
     "end_time": "2023-06-13T14:12:10.091577100Z",
     "start_time": "2023-06-13T14:12:10.078948200Z"
    }
   }
  },
  {
   "cell_type": "code",
   "execution_count": 12,
   "outputs": [
    {
     "name": "stdout",
     "output_type": "stream",
     "text": [
      "Base64: \n",
      "[('dog', 0.98751986), ('chimpanzee', 0.008497306), ('gorilla', 0.0022081647), ('otter', 0.0011642958), ('orangutan', 0.00033465205)]\n"
     ]
    }
   ],
   "source": [
    "tuple_b64 = tuple(zip(FAUNA_LABEL, pred_b64.ravel()))\n",
    "tuple_b64 = sorted(tuple_b64, key=lambda x: x[1], reverse=True)\n",
    "print(\"Base64: \")\n",
    "print(tuple_b64[:5])"
   ],
   "metadata": {
    "collapsed": false,
    "ExecuteTime": {
     "end_time": "2023-06-13T14:14:34.043466100Z",
     "start_time": "2023-06-13T14:14:34.030869900Z"
    }
   }
  },
  {
   "cell_type": "code",
   "execution_count": 13,
   "outputs": [
    {
     "name": "stdout",
     "output_type": "stream",
     "text": [
      "Raw: \n",
      "[('dog', 0.98379886), ('chimpanzee', 0.01126717), ('gorilla', 0.002932028), ('otter', 0.0012129984), ('orangutan', 0.00050072756)]\n"
     ]
    }
   ],
   "source": [
    "tuple_raw = tuple(zip(FAUNA_LABEL, pred_raw.ravel()))\n",
    "tuple_raw = sorted(tuple_raw, key=lambda x: x[1], reverse=True)\n",
    "print(\"Raw: \")\n",
    "print(tuple_raw[:5])"
   ],
   "metadata": {
    "collapsed": false,
    "ExecuteTime": {
     "end_time": "2023-06-13T14:14:35.726599800Z",
     "start_time": "2023-06-13T14:14:35.683491800Z"
    }
   }
  }
 ],
 "metadata": {
  "language_info": {
   "name": "python"
  },
  "orig_nbformat": 4,
  "kernelspec": {
   "name": "python3",
   "language": "python",
   "display_name": "Python 3 (ipykernel)"
  }
 },
 "nbformat": 4,
 "nbformat_minor": 2
}
