{
 "cells": [
  {
   "cell_type": "markdown",
   "metadata": {},
   "source": [
    "## Inference - Base64\n",
    "Convert an image to Base64 string"
   ]
  },
  {
   "cell_type": "code",
   "execution_count": 73,
   "metadata": {
    "ExecuteTime": {
     "end_time": "2023-06-15T08:44:22.052536200Z",
     "start_time": "2023-06-15T08:44:22.032090300Z"
    }
   },
   "outputs": [],
   "source": [
    "import io\n",
    "import base64\n",
    "import numpy as np\n",
    "from keras.models import load_model\n",
    "from keras.utils import load_img, img_to_array\n",
    "\n",
    "# models\n",
    "FAUNA_H5 = \"../models/fauna/h5/fauna-95-89.h5\"\n",
    "FLORA_H5 = \"../models/flora/h5/flower5-90-91-large.h5\"\n",
    "FLOWER_H5 = \"../models/flora/flower/flower5-86-87.h5\"\n",
    "MODEL_H5 = FLORA_H5\n",
    "# labels\n",
    "FAUNA_LABEL_PATH = \"../models/fauna/fauna_labels.txt\"\n",
    "FLORA_LABEL_PATH = \"../models/flora/flora_labels.txt\"\n",
    "FLOWER_LABEL_PATH = \"../models/flora/flower/flower5_label.txt\"\n",
    "LABEL_PATH = FLOWER_LABEL_PATH\n",
    "# image specs\n",
    "IMAGE_PATH = \"../notebooks/image_tests/flora/sunflower-2.webp\"\n",
    "TARGET_SIZE = (225, 225)\n",
    "\n",
    "with open(IMAGE_PATH, \"rb\") as image_file:\n",
    "    image_b64 = base64.b64encode(image_file.read())\n",
    "\n",
    "data = base64.b64decode(image_b64)\n",
    "image = io.BytesIO(data)"
   ]
  },
  {
   "cell_type": "code",
   "execution_count": 74,
   "metadata": {
    "ExecuteTime": {
     "end_time": "2023-06-15T08:44:22.068531500Z",
     "start_time": "2023-06-15T08:44:22.036570500Z"
    }
   },
   "outputs": [],
   "source": [
    "img_b64 = load_img(image, target_size=TARGET_SIZE)\n",
    "x_b64 = img_to_array(img_b64)\n",
    "x_b64 /= 255.0\n",
    "x_b64 = np.expand_dims(x_b64, axis=0)"
   ]
  },
  {
   "cell_type": "markdown",
   "metadata": {},
   "source": [
    "## Inference - Raw Image"
   ]
  },
  {
   "cell_type": "code",
   "execution_count": 75,
   "metadata": {
    "ExecuteTime": {
     "end_time": "2023-06-15T08:44:22.068531500Z",
     "start_time": "2023-06-15T08:44:22.052536200Z"
    }
   },
   "outputs": [],
   "source": [
    "img_raw = load_img(IMAGE_PATH, target_size=TARGET_SIZE)\n",
    "x_raw = img_to_array(img_raw)\n",
    "x_raw /= 225.0\n",
    "x_raw = np.expand_dims(x_raw, axis=0)"
   ]
  },
  {
   "cell_type": "markdown",
   "metadata": {},
   "source": [
    "## Predictions"
   ]
  },
  {
   "cell_type": "code",
   "execution_count": 76,
   "metadata": {
    "ExecuteTime": {
     "end_time": "2023-06-15T08:44:24.461561100Z",
     "start_time": "2023-06-15T08:44:22.068531500Z"
    }
   },
   "outputs": [],
   "source": [
    "with open(LABEL_PATH) as f:\n",
    "   LABEL = f.read().splitlines()\n",
    "model = load_model(MODEL_H5)"
   ]
  },
  {
   "cell_type": "code",
   "execution_count": 77,
   "metadata": {
    "ExecuteTime": {
     "end_time": "2023-06-15T08:44:25.286004500Z",
     "start_time": "2023-06-15T08:44:24.462067500Z"
    }
   },
   "outputs": [
    {
     "name": "stdout",
     "output_type": "stream",
     "text": [
      "1/1 [==============================] - 1s 686ms/step\n",
      "1/1 [==============================] - 0s 64ms/step\n"
     ]
    }
   ],
   "source": [
    "# B64\n",
    "pred_b64 = model.predict(x_b64)\n",
    "# Raw\n",
    "pred_raw = model.predict(x_raw)"
   ]
  },
  {
   "cell_type": "code",
   "execution_count": 78,
   "metadata": {
    "ExecuteTime": {
     "end_time": "2023-06-15T08:44:25.331120800Z",
     "start_time": "2023-06-15T08:44:25.286004500Z"
    }
   },
   "outputs": [
    {
     "name": "stdout",
     "output_type": "stream",
     "text": [
      "Base64: sunflower\n",
      "Raw: sunflower\n"
     ]
    }
   ],
   "source": [
    "result_b64 = LABEL[pred_b64.argmax(axis=1)[0]]\n",
    "result_raw = LABEL[pred_raw.argmax(axis=1)[0]]\n",
    "print(f\"Base64: {result_b64}\")\n",
    "print(f\"Raw: {result_raw}\")"
   ]
  },
  {
   "cell_type": "code",
   "execution_count": 79,
   "metadata": {
    "ExecuteTime": {
     "end_time": "2023-06-15T08:44:25.331120800Z",
     "start_time": "2023-06-15T08:44:25.299849800Z"
    }
   },
   "outputs": [
    {
     "name": "stdout",
     "output_type": "stream",
     "text": [
      "Base64: \n",
      "[('sunflower', 0.9976598), ('daisy', 0.001423783), ('dandelion', 0.0007480618), ('rose', 0.00014959545), ('tulip', 1.8771107e-05)]\n"
     ]
    }
   ],
   "source": [
    "tuple_b64 = tuple(zip(LABEL, pred_b64.ravel()))\n",
    "tuple_b64 = sorted(tuple_b64, key=lambda x: x[1], reverse=True)\n",
    "print(\"Base64: \")\n",
    "print(tuple_b64[:5])"
   ]
  },
  {
   "cell_type": "code",
   "execution_count": 80,
   "metadata": {
    "ExecuteTime": {
     "end_time": "2023-06-15T08:44:25.335041300Z",
     "start_time": "2023-06-15T08:44:25.331120800Z"
    }
   },
   "outputs": [
    {
     "name": "stdout",
     "output_type": "stream",
     "text": [
      "Raw: \n",
      "[('sunflower', 0.99760324), ('daisy', 0.0014818123), ('dandelion', 0.00076663244), ('rose', 0.00012900442), ('tulip', 1.9381885e-05)]\n"
     ]
    }
   ],
   "source": [
    "tuple_raw = tuple(zip(LABEL, pred_raw.ravel()))\n",
    "tuple_raw = sorted(tuple_raw, key=lambda x: x[1], reverse=True)\n",
    "print(\"Raw: \")\n",
    "print(tuple_raw[:5])"
   ]
  }
 ],
 "metadata": {
  "kernelspec": {
   "display_name": "Python 3",
   "language": "python",
   "name": "python3"
  },
  "language_info": {
   "codemirror_mode": {
    "name": "ipython",
    "version": 3
   },
   "file_extension": ".py",
   "mimetype": "text/x-python",
   "name": "python",
   "nbconvert_exporter": "python",
   "pygments_lexer": "ipython3",
   "version": "3.8.3"
  }
 },
 "nbformat": 4,
 "nbformat_minor": 2
}
