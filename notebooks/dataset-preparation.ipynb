{
 "cells": [
  {
   "cell_type": "markdown",
   "source": [
    "# Download Datasets\n",
    "Datasets sourced from Kaggle, make sure to prepare your Kaggle API key (kaggle.json)."
   ],
   "metadata": {
    "cell_id": "c09a2ca34ef644348fb6de4fdfcddf1c",
    "deepnote_cell_type": "markdown"
   }
  },
  {
   "cell_type": "code",
   "source": [
    "# Initializing Kaggle's Python package\n",
    "\n",
    "! mkdir ~/.kaggle\n",
    "! cp kaggle.json ~/.kaggle/\n",
    "! chmod 600 ~/.kaggle/kaggle.json\n",
    "! kaggle datasets list"
   ],
   "metadata": {
    "cell_id": "37262b893c5946fb92bc0aeabf1d2327",
    "source_hash": "2509a97e",
    "execution_start": 1686071144495,
    "execution_millis": 3216,
    "deepnote_to_be_reexecuted": false,
    "deepnote_cell_type": "code"
   },
   "outputs": [
    {
     "name": "stdout",
     "text": "ref                                                                   title                                                size  lastUpdated          downloadCount  voteCount  usabilityRating  \n--------------------------------------------------------------------  --------------------------------------------------  -----  -------------------  -------------  ---------  ---------------  \narnabchaki/data-science-salaries-2023                                 Data Science Salaries 2023 💸                         25KB  2023-04-13 09:55:16          26915        750  1.0              \ntawfikelmetwally/automobile-dataset                                   Car information dataset                               6KB  2023-05-28 18:26:48           1681         47  0.9411765        \nfatihb/coffee-quality-data-cqi                                        Coffee Quality Data (CQI May-2023)                   22KB  2023-05-12 13:06:39           4237         92  1.0              \nmohithsairamreddy/salary-data                                         Salary_Data                                          17KB  2023-05-18 14:05:19           3695         72  0.88235295       \nmauryansshivam/netflix-ott-revenue-and-subscribers-csv-file           Netflix OTT Revenue and Subscribers (CSV File)        2KB  2023-05-13 17:40:23           2111         51  1.0              \nomarsobhy14/mcdonalds-revenue                                         🍟💰From Flipping Burgers to Billions: McDonald's      565B  2023-06-01 23:22:49            473         23  1.0              \nzsinghrahulk/rice-pest-and-diseases                                   Rice - Pest and Diseases                            312KB  2023-06-01 08:57:29            385         25  1.0              \niammustafatz/diabetes-prediction-dataset                              Diabetes prediction dataset                         734KB  2023-04-08 06:11:45          14046        204  1.0              \nvstacknocopyright/fruit-and-vegetable-prices                          Fruit and Vegetable Prices                            1KB  2023-06-02 06:17:43            636         25  0.7647059        \nbilalwaseer/microsoft-stocks-from-1986-to-2023                        Microsoft Stocks from 1986 to 2023                  120KB  2023-05-16 10:07:28            783         25  0.9411765        \ndarshanprabhu09/stock-prices-for                                      Stock prices of Amazon , Microsoft , Google, Apple   85KB  2023-05-16 15:17:16           1773         40  1.0              \nrajkumarpandey02/2023-world-population-by-country                      World Population by Country                         38KB  2023-06-01 06:10:41           1114         27  1.0              \ndanishjmeo/karachi-housing-prices-2023                                Karachi_Housing_Prices_2023                           1MB  2023-06-01 07:08:13            405         24  0.88235295       \nadityaramachandran27/world-air-quality-index-by-city-and-coordinates  World Air Quality Index by City and Coordinates     372KB  2023-05-07 07:29:26           1694         39  1.0              \ndansbecker/melbourne-housing-snapshot                                 Melbourne Housing Snapshot                          451KB  2018-06-05 12:52:24         117205       1277  0.7058824        \npushpakhinglaspure/oscar-dataset                                      Oscar Academy Award-winning films 1927-2022         161KB  2023-05-21 18:14:44            457         24  1.0              \naryansingh0909/weekly-patent-application-granted                      Patent Application Granted Dataset                    6MB  2023-06-01 19:04:40            276         23  1.0              \nutkarshx27/heart-disease-diagnosis-dataset                            Heart Disease Prediction Dataset                      3KB  2023-05-26 09:33:13           1009         30  1.0              \nshreyanshverma27/water-quality-testing                                Water Quality Testing                                 4KB  2023-05-16 05:22:17           1083         31  0.9411765        \ndesalegngeb/conversion-predictors-of-cis-to-multiple-sclerosis        Multiple Sclerosis Disease                            3KB  2023-05-18 09:41:09            810         29  1.0              \n",
     "output_type": "stream"
    }
   ],
   "execution_count": 1
  },
  {
   "cell_type": "markdown",
   "source": [
    "## Fruits and Vegetables Dataset \n",
    "Source: https://www.kaggle.com/datasets/moltean/fruits"
   ],
   "metadata": {
    "cell_id": "ba05c6f0b5934636b17026df52fc526f",
    "deepnote_cell_type": "markdown"
   }
  },
  {
   "cell_type": "code",
   "source": [
    "# Download Fruits360 dataset\n",
    "! kaggle datasets download moltean/fruits"
   ],
   "metadata": {
    "cell_id": "bbf7ce29cf644469815201d5f3a596b1",
    "source_hash": "8ca77370",
    "execution_start": 1686071147714,
    "execution_millis": 16128,
    "deepnote_to_be_reexecuted": false,
    "deepnote_cell_type": "code"
   },
   "outputs": [
    {
     "name": "stdout",
     "text": "Downloading fruits.zip to /work\n100%|██████████████████████████████████████▉| 1.28G/1.28G [00:04<00:00, 325MB/s]\n100%|██████████████████████████████████████| 1.28G/1.28G [00:14<00:00, 94.0MB/s]\n",
     "output_type": "stream"
    }
   ],
   "execution_count": 2
  },
  {
   "cell_type": "code",
   "source": [
    "# Unzip\n",
    "! unzip -qq fruits"
   ],
   "metadata": {
    "cell_id": "f8886236487f4132978112792b7f8097",
    "source_hash": "76e4138d",
    "execution_start": 1686071163849,
    "execution_millis": 464867,
    "deepnote_to_be_reexecuted": false,
    "deepnote_cell_type": "code"
   },
   "outputs": [],
   "execution_count": 3
  },
  {
   "cell_type": "markdown",
   "source": [
    "## Flowers Dataset\n",
    "Source: https://www.kaggle.com/datasets/l3llff/flowers"
   ],
   "metadata": {
    "cell_id": "3f7fa866e6bd491ab24f0b703fa41017",
    "deepnote_cell_type": "markdown"
   }
  },
  {
   "cell_type": "code",
   "source": [
    "# Download Flowers dataset\n",
    "! kaggle datasets download l3llff/flowers"
   ],
   "metadata": {
    "cell_id": "f983ea7536cd4379b1f5bbc9384b357e",
    "source_hash": "c055bf55",
    "execution_start": 1686071628759,
    "execution_millis": 6236,
    "deepnote_to_be_reexecuted": false,
    "deepnote_cell_type": "code"
   },
   "outputs": [
    {
     "name": "stdout",
     "text": "Downloading flowers.zip to /work\n 92%|████████████████████████████████████▋   | 209M/228M [00:02<00:00, 91.6MB/s]\n100%|████████████████████████████████████████| 228M/228M [00:04<00:00, 53.8MB/s]\n",
     "output_type": "stream"
    }
   ],
   "execution_count": 4
  },
  {
   "cell_type": "code",
   "source": [
    "# Unzip\n",
    "! unzip -qq flowers"
   ],
   "metadata": {
    "cell_id": "32cc14d4e2e44329abe2bf20f2d04561",
    "source_hash": "ea16e34c",
    "execution_start": 1686071634999,
    "execution_millis": 63393,
    "deepnote_to_be_reexecuted": false,
    "deepnote_cell_type": "code"
   },
   "outputs": [],
   "execution_count": 5
  },
  {
   "cell_type": "markdown",
   "source": [
    "## Animals Dataset\n",
    "Source: https://www.kaggle.com/datasets/iamsouravbanerjee/animal-image-dataset-90-different-animals"
   ],
   "metadata": {
    "cell_id": "aff951c93f4b4c2ca52c8f2e32c67fa1",
    "deepnote_cell_type": "markdown"
   }
  },
  {
   "cell_type": "code",
   "source": [
    "# Download 90 Animals dataset\n",
    "! kaggle datasets download iamsouravbanerjee/animal-image-dataset-90-different-animals"
   ],
   "metadata": {
    "cell_id": "24fe304b96f44d3bbc033c5af1c0a78c",
    "source_hash": "2da43280",
    "execution_start": 1686071698395,
    "execution_millis": 8961,
    "deepnote_to_be_reexecuted": false,
    "deepnote_cell_type": "code"
   },
   "outputs": [
    {
     "name": "stdout",
     "text": "Downloading animal-image-dataset-90-different-animals.zip to /work\n 98%|████████████████████████████████████████▏| 643M/656M [00:03<00:00, 266MB/s]\n100%|████████████████████████████████████████| 656M/656M [00:07<00:00, 90.3MB/s]\n",
     "output_type": "stream"
    }
   ],
   "execution_count": 6
  },
  {
   "cell_type": "code",
   "source": [
    "# Unzip\n",
    "! unzip -qq animal-image-dataset-90-different-animals"
   ],
   "metadata": {
    "cell_id": "266e4be14963480cb7d764e898f83e72",
    "source_hash": "57f4fccc",
    "execution_start": 1686071707361,
    "execution_millis": 33973,
    "deepnote_to_be_reexecuted": false,
    "deepnote_cell_type": "code"
   },
   "outputs": [],
   "execution_count": 7
  },
  {
   "cell_type": "markdown",
   "source": [
    "# Structuring Datasets\n",
    "Structuring directories for each dataset."
   ],
   "metadata": {
    "cell_id": "865bf29b464043f7820d74687b6ffbcd",
    "deepnote_cell_type": "markdown"
   }
  },
  {
   "cell_type": "markdown",
   "source": [
    "## Raw Dataset\n",
    "Preparing dataset directories and moving raw dataset."
   ],
   "metadata": {
    "cell_id": "dba244424a8740d9a768286514440e0a",
    "deepnote_cell_type": "markdown"
   }
  },
  {
   "cell_type": "code",
   "source": [
    "import shutil\n",
    "import os\n",
    "\n",
    "# Downloaded datasets\n",
    "ANIMAL_DL = \"../animals/animals\"\n",
    "FRUITS_DL = \"../fruits-360_dataset\"\n",
    "FLOWER_DL = \"../flowers\"\n",
    "\n",
    "# New directories\n",
    "DATASET_PATH = \"../datasets/\"\n",
    "RAW_PATH = \"raw/\"\n",
    "FLORA_PATH = \"flora/\"\n",
    "FAUNA_PATH = \"fauna/\"\n",
    "\n",
    "# Create two dataset directories\n",
    "try:\n",
    "    os.makedirs(DATASET_PATH + RAW_PATH)\n",
    "    os.makedirs(DATASET_PATH + FLORA_PATH)\n",
    "    os.makedirs(DATASET_PATH + FAUNA_PATH)\n",
    "except FileExistsError:\n",
    "    print(\"File already exists\")\n",
    "\n",
    "# Removing unused files\n",
    "os.remove(\"../animal-image-dataset-90-different-animals.zip\")\n",
    "os.remove(\"../fruits.zip\")\n",
    "os.remove(\"../flowers.zip\")\n",
    "shutil.rmtree(\"../fruits-360-original-size\")"
   ],
   "metadata": {
    "cell_id": "f3149e669a2347c29499a57e2b692d61",
    "source_hash": "76fd4d1",
    "execution_start": 1686071919001,
    "execution_millis": 6579,
    "deepnote_to_be_reexecuted": false,
    "deepnote_cell_type": "code",
    "ExecuteTime": {
     "end_time": "2023-06-06T17:40:36.502722800Z",
     "start_time": "2023-06-06T17:40:34.526904500Z"
    }
   },
   "outputs": [],
   "execution_count": 5
  },
  {
   "cell_type": "code",
   "source": [
    "# Moving downloaded datasets\n",
    "ANIMAL_RAW = f\"{DATASET_PATH}{RAW_PATH}/animals\"\n",
    "FRUITS_RAW = f\"{DATASET_PATH}{RAW_PATH}/fruits\"\n",
    "FLOWER_RAW = f\"{DATASET_PATH}{RAW_PATH}/flowers\"\n",
    "\n",
    "shutil.copytree(ANIMAL_DL, ANIMAL_RAW)\n",
    "shutil.rmtree(ANIMAL_DL[:10])\n",
    "\n",
    "FRUITS_DL = f\"{FRUITS_DL}/fruits-360\"\n",
    "shutil.copytree(FRUITS_DL, FRUITS_RAW)\n",
    "shutil.rmtree(FRUITS_DL)\n",
    "\n",
    "shutil.copytree(FLOWER_DL, FLOWER_RAW)\n",
    "shutil.rmtree(FLOWER_DL)\n",
    "\n",
    "os.rename(\"../name of the animals.txt\", f\"{ANIMAL_RAW}/animal_names.txt\")"
   ],
   "metadata": {
    "cell_id": "e74b7235958a440e826dc1b6c881e915",
    "source_hash": "43289e82",
    "execution_start": 1686072117187,
    "execution_millis": 32584,
    "deepnote_to_be_reexecuted": false,
    "deepnote_cell_type": "code",
    "ExecuteTime": {
     "end_time": "2023-06-06T17:50:06.912998700Z",
     "start_time": "2023-06-06T17:48:19.649843200Z"
    }
   },
   "outputs": [],
   "execution_count": 9
  },
  {
   "cell_type": "markdown",
   "source": [
    "## Processed Dataset\n",
    "Creating processed dataset, ready for model development."
   ],
   "metadata": {
    "cell_id": "f09084bf83e04c92b2b87080f93cb3d0",
    "deepnote_cell_type": "markdown"
   }
  },
  {
   "cell_type": "markdown",
   "source": [
    "### Animals Dataset\n",
    "Using splitfolders to split 80/20"
   ],
   "metadata": {
    "cell_id": "0b137f79d4e6496f929ea4329ee679b8",
    "formattedRanges": [],
    "deepnote_cell_type": "text-cell-h3"
   }
  },
  {
   "cell_type": "code",
   "source": [
    "import splitfolders\n",
    "\n",
    "animal_input_folder = ANIMAL_RAW\n",
    "animal_output = DATASET_PATH + FAUNA_PATH\n",
    "\n",
    "splitfolders.ratio(animal_input_folder, output=animal_output, seed=1337, ratio=(.8, .2))"
   ],
   "metadata": {
    "cell_id": "e9b788a5f8a94307b962285cb17f4f5b",
    "deepnote_cell_type": "code",
    "ExecuteTime": {
     "end_time": "2023-06-06T17:57:13.477741700Z",
     "start_time": "2023-06-06T17:57:05.701307400Z"
    }
   },
   "outputs": [
    {
     "name": "stderr",
     "output_type": "stream",
     "text": [
      "Copying files: 5400 files [00:07, 697.43 files/s]\n"
     ]
    }
   ],
   "execution_count": 10
  },
  {
   "cell_type": "markdown",
   "source": [
    "### Fruits-Vegetables Dataset\n",
    "Using Training for training set, Test for validation set, and test-multiple_fruits for optional testing."
   ],
   "metadata": {
    "cell_id": "9c874f7a9eee4107978b734d18e0c141",
    "formattedRanges": [],
    "deepnote_cell_type": "text-cell-h3"
   }
  },
  {
   "cell_type": "code",
   "source": [
    "train_src = f\"{FRUITS_RAW}/Training\"\n",
    "val_src = f\"{FRUITS_RAW}/Test\"\n",
    "test_src = f\"{FRUITS_RAW}/test-multiple_fruits\"\n",
    "\n",
    "fruits_train = f\"{DATASET_PATH}{FLORA_PATH}/train\"\n",
    "fruits_val = f\"{DATASET_PATH}{FLORA_PATH}/val\"\n",
    "fruits_test = f\"{DATASET_PATH}{FLORA_PATH}/test\"\n",
    "\n",
    "shutil.copytree(train_src, fruits_train)\n",
    "shutil.copytree(val_src, fruits_val)\n",
    "shutil.copytree(test_src, fruits_test)"
   ],
   "metadata": {
    "cell_id": "32522d0770f94783bad526746e50d0f8",
    "deepnote_cell_type": "code",
    "ExecuteTime": {
     "end_time": "2023-06-06T18:07:31.227486200Z",
     "start_time": "2023-06-06T18:05:55.650362900Z"
    }
   },
   "outputs": [
    {
     "data": {
      "text/plain": "'../datasets/flora//test'"
     },
     "execution_count": 11,
     "metadata": {},
     "output_type": "execute_result"
    }
   ],
   "execution_count": 11
  },
  {
   "cell_type": "markdown",
   "source": [
    "### Flowers Dataset\n",
    "Splitting and combining with fruits-vegetables"
   ],
   "metadata": {
    "cell_id": "d4340685b955490989f1e1039a0b9f23",
    "formattedRanges": [],
    "deepnote_cell_type": "text-cell-h3"
   }
  },
  {
   "cell_type": "code",
   "execution_count": 20,
   "outputs": [
    {
     "name": "stdout",
     "output_type": "stream",
     "text": [
      "training count: 67692\n",
      "validation count: 22688\n",
      "split ratio: 0.7489710112856827\n"
     ]
    }
   ],
   "source": [
    "ft_count = sum([len(files) for r, d, files in os.walk(fruits_train)])\n",
    "fv_count = sum([len(files) for r, d, files in os.walk(fruits_val)])\n",
    "print(f\"training count: {ft_count}\\nvalidation count: {fv_count}\")\n",
    "print(f\"split ratio: {ft_count / (ft_count + fv_count)}\")"
   ],
   "metadata": {
    "collapsed": false,
    "ExecuteTime": {
     "end_time": "2023-06-06T18:15:19.899837900Z",
     "start_time": "2023-06-06T18:15:19.790898300Z"
    }
   }
  },
  {
   "cell_type": "code",
   "source": [
    "flower_input_folder = FLOWER_RAW\n",
    "flower_output = DATASET_PATH + FLORA_PATH + \"flowers/\"\n",
    "\n",
    "splitfolders.ratio(flower_input_folder, output=flower_output, seed=1337, ratio=(.75, .25))"
   ],
   "metadata": {
    "cell_id": "bd1eefba63d94838a9efba93a5edc304",
    "deepnote_cell_type": "code",
    "ExecuteTime": {
     "end_time": "2023-06-06T18:17:09.029839500Z",
     "start_time": "2023-06-06T18:16:47.906412200Z"
    }
   },
   "outputs": [
    {
     "name": "stderr",
     "output_type": "stream",
     "text": [
      "Copying files: 15740 files [00:21, 745.76 files/s]\n"
     ]
    }
   ],
   "execution_count": 21
  }
 ],
 "nbformat": 4,
 "nbformat_minor": 0,
 "metadata": {
  "deepnote": {},
  "orig_nbformat": 2,
  "deepnote_notebook_id": "fb239d60577442d69790efb34b45be3f",
  "deepnote_persisted_session": {
   "createdAt": "2023-06-06T17:03:28.257Z"
  },
  "deepnote_execution_queue": [],
  "kernelspec": {
   "name": "python3",
   "language": "python",
   "display_name": "Python 3 (ipykernel)"
  }
 }
}
